{
 "cells": [
  {
   "cell_type": "markdown",
   "id": "9722c966-477d-49ea-a8bc-05e192af55f2",
   "metadata": {},
   "source": [
    "## Lambda time!!!"
   ]
  },
  {
   "cell_type": "code",
   "execution_count": 1,
   "id": "26ee53af-31a0-45ce-b4cb-9cdebd389172",
   "metadata": {},
   "outputs": [
    {
     "name": "stdout",
     "output_type": "stream",
     "text": [
      "25\n"
     ]
    }
   ],
   "source": [
    "f = lambda a : a*a\n",
    "result = f(5)\n",
    "print(result)"
   ]
  },
  {
   "cell_type": "markdown",
   "id": "06a367b0-7415-4ea6-98dc-505a38d300e2",
   "metadata": {},
   "source": [
    "### lets add 2 variables now"
   ]
  },
  {
   "cell_type": "code",
   "execution_count": 2,
   "id": "afbd23ed-ee62-48c5-8f83-2570ea345035",
   "metadata": {},
   "outputs": [
    {
     "name": "stdout",
     "output_type": "stream",
     "text": [
      "11\n"
     ]
    }
   ],
   "source": [
    "f = lambda a,b : a+b #take note that lambda can only perform one type of function at one time (addition/subtraction etc.)\n",
    "result = f(5,6)\n",
    "print (result)"
   ]
  },
  {
   "cell_type": "code",
   "execution_count": 4,
   "id": "a00be632-c8ef-482b-a9cc-6f68853b0e8f",
   "metadata": {},
   "outputs": [
    {
     "data": {
      "text/plain": [
       "25"
      ]
     },
     "execution_count": 4,
     "metadata": {},
     "output_type": "execute_result"
    }
   ],
   "source": [
    "f = lambda a : a*a\n",
    "f(5)"
   ]
  },
  {
   "cell_type": "code",
   "execution_count": 8,
   "id": "d0e22713-8912-4fb7-bb88-8173ad8a548e",
   "metadata": {},
   "outputs": [
    {
     "name": "stdout",
     "output_type": "stream",
     "text": [
      "8.0\n"
     ]
    }
   ],
   "source": [
    "f = lambda a,b,c: (a*b*c) / 100\n",
    "si = f(200,2,2)\n",
    "print(si)"
   ]
  },
  {
   "cell_type": "code",
   "execution_count": 13,
   "id": "f7eb1035-875a-40e3-aaae-fe7e538d8449",
   "metadata": {},
   "outputs": [
    {
     "data": {
      "text/plain": [
       "[2, 4, 6, 8, 10]"
      ]
     },
     "execution_count": 13,
     "metadata": {},
     "output_type": "execute_result"
    }
   ],
   "source": [
    "nums = [1,2,3,4,5,6,7,8,9,10]\n",
    "numseven = list(filter(lambda x : (x % 2 == 0), nums))\n",
    "numseven"
   ]
  },
  {
   "cell_type": "code",
   "execution_count": null,
   "id": "9a1ac7cc-76b1-44ed-8175-a3536349871c",
   "metadata": {},
   "outputs": [],
   "source": []
  }
 ],
 "metadata": {
  "kernelspec": {
   "display_name": "Python 3 (ipykernel)",
   "language": "python",
   "name": "python3"
  },
  "language_info": {
   "codemirror_mode": {
    "name": "ipython",
    "version": 3
   },
   "file_extension": ".py",
   "mimetype": "text/x-python",
   "name": "python",
   "nbconvert_exporter": "python",
   "pygments_lexer": "ipython3",
   "version": "3.9.13"
  }
 },
 "nbformat": 4,
 "nbformat_minor": 5
}
