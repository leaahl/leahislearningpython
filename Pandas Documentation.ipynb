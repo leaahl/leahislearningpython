{
 "cells": [
  {
   "cell_type": "markdown",
   "id": "beca8ae5-92f1-42cb-a490-438d924b4a83",
   "metadata": {},
   "source": [
    "# Leah's Documentation for Pandas "
   ]
  },
  {
   "cell_type": "markdown",
   "id": "7f5d2e64-bec0-4e51-9661-2d07d2b7644b",
   "metadata": {},
   "source": [
    "Some differing syntax to take note : \n",
    "\n",
    "! ---> ~\n",
    "\n",
    "and ---> &\n",
    "\n",
    "or ---> |"
   ]
  },
  {
   "cell_type": "markdown",
   "id": "28fd29fa-2dd7-4efb-8007-463b919a86b7",
   "metadata": {
    "tags": []
   },
   "source": [
    "## Reading & Filtering the data "
   ]
  },
  {
   "cell_type": "markdown",
   "id": "b5b2858b-ab18-4f43-9216-9b3c219544ec",
   "metadata": {
    "tags": []
   },
   "source": [
    "df.head\n",
    "\n",
    "df.tail\n",
    "\n",
    "df.columns\n",
    "\n",
    "df.rows\n",
    "\n",
    "### Reading specific columns\n",
    "\n",
    "print(df.[\"Name\"])\n",
    "\n",
    "print(df.[[\"Name\", \"Age\"]])\n",
    "\n",
    "### Reading specific rows with index \n",
    "\n",
    "print(df.iloc[0])\n",
    "\n",
    "### Reading specific location with index \n",
    "\n",
    "df.iloc[1,4] #read row index 1 and column index 4 to return only ONE value\n",
    "\n",
    "df.iloc[1:4] #read from row index 1 range to index 4 ALL values from row 1-4 \n",
    "\n",
    "### Reading entire columns with the string/header name \n",
    "\n",
    "print(df.[[\"Name\", \"Age\"]])\n",
    "\n",
    "df.loc[\"Name\", \"Age\"]\n",
    "\n",
    "### Reading entire columns and rows with CONDITIONS with the string/header name \n",
    "\n",
    "df.loc[ df([\"Name\"] == \"John\") & df([\"Age\"] > 30) ] # name is john and age is above 30 make sure the and is & its just the syntax of Panda dataframe. Same for or, use | "
   ]
  },
  {
   "cell_type": "markdown",
   "id": "fba30401-4041-4e19-a8b3-aefab8c3cff8",
   "metadata": {},
   "source": [
    "### Filtering Data - advanced"
   ]
  },
  {
   "cell_type": "markdown",
   "id": "2dc0ea32-b09d-4711-95ba-88eb703dab34",
   "metadata": {},
   "source": [
    "#### Filtering data with a certain string value that we want inside \n",
    "\n",
    "df.loc[ df[\"Name\"].str.contains(\"Mega\") ]\n",
    "\n",
    "#### Filtering data with a certain string value that we DONT want to include. Instead of using the ! not sign, use ~\n",
    "\n",
    "\n",
    "df.loc[ ~df[\"Name\"].str.contains(\"Mega\") ] \n",
    "\n",
    "***Note: you can do regex expressons instead of just the string inside***\n",
    "\n",
    "#### Using regex to filter (remember to import re)\n",
    "\n",
    "df.loc[ ~df[\"Type 1\"].str.contains(\"Fire|Poison\", regex = True ) ] #it's case sensitive\n",
    "\n",
    "df.loc[ ~df[\"Type 1\"].str.contains(\"Fire|Poison\", flags=re.I, regex = True ) ] #this means to pass it through and ignore the case sensitivity\n",
    "\n",
    "df.loc[ ~df[\"Name\"].str.contains(\"^Lea[A-Za-z]\", regex = True ) ] I guess if i didnt want to pass the flags=re.I case sensitive i can do this\n",
    "\n",
    "df.loc[ ~df[\"Name\"].str.contains(\"^Lea[a-z]\", flags=re.I, regex = True ) ]  "
   ]
  },
  {
   "cell_type": "markdown",
   "id": "4fdbd3fa-408e-479a-9e8e-8b89fd1bd549",
   "metadata": {
    "tags": []
   },
   "source": [
    "## Describing the data"
   ]
  },
  {
   "cell_type": "markdown",
   "id": "41a2430c-dffd-4994-96e6-187dbbb38c7f",
   "metadata": {
    "tags": []
   },
   "source": [
    "### Mean, SD, simple statistics\n",
    "df.describe()"
   ]
  },
  {
   "cell_type": "markdown",
   "id": "ff403e7a-8746-4542-ab1c-077b692ad06c",
   "metadata": {},
   "source": [
    "## Group By - Aggregate Functions"
   ]
  },
  {
   "cell_type": "markdown",
   "id": "425aa45b-788d-4542-b5da-4f6a534db551",
   "metadata": {},
   "source": [
    "you can only do .mean() .sum() .count()\n",
    "\n",
    "df.groupby(\"Shopping Cart Value\").mean()\n",
    "\n",
    "df.groupby(\"Shopping Cart Value\").mean().sort_values([\"Age Group\"], ascending = False)\n",
    "\n",
    "df.groupby(\"Shopping Cart Value\").count() --> but if the counts are inaccurate, you can first assign a count of 1 to each row like this(by creating a new column and giving it a value of 1)\n",
    "\n",
    "df[\"Count\"] = 1 OR df = df.assign(Count=1) Count is the name of the column\n"
   ]
  },
  {
   "cell_type": "markdown",
   "id": "7b1b6c1a-8f06-4bf3-b0fa-7f4240e9169e",
   "metadata": {
    "jp-MarkdownHeadingCollapsed": true,
    "tags": []
   },
   "source": [
    "## Sorting the data"
   ]
  },
  {
   "cell_type": "markdown",
   "id": "65b1b2ac-010d-4f76-a669-a16cb9ecb029",
   "metadata": {},
   "source": [
    "### Sorting by ascending\n",
    "df.sort_values(\"Name\")\n",
    "\n",
    "#### Sorting by ascending with more than 1 variable\n",
    "df.sort_values([\"Type 1\", \"HP\"], ascending = True)\n",
    "\n",
    "### Sorting by descending\n",
    "df.sort_values(\"Name\", ascending = False)\n",
    "\n",
    "#### Sorting by descending with more than 1 variable\n",
    "df.sort_values([\"Type 1\", \"HP\"], ascending = False)\n",
    "\n",
    "### Sorting by ascending for 1 variable and descending for the other variable\n",
    "df.sort_values( [\"Type 1\", \"HP\"], ascending = [1,0] ) # 1 is ascending, 0 is decending"
   ]
  },
  {
   "cell_type": "markdown",
   "id": "61070121-1e9d-4be7-b295-fd54769592ec",
   "metadata": {},
   "source": [
    "## Altering and Making changes to the data"
   ]
  },
  {
   "cell_type": "markdown",
   "id": "1bf2fa22-46dc-4f8e-9cae-5fd5e90d7316",
   "metadata": {},
   "source": [
    "### Summing up certain values in a column\n",
    "\n",
    "create new column then do the addition\n",
    "\n",
    "df[\"Marks\"] = df[\"English\"] + df[\"Math\"] + df[\"Sci\"] + df[\"Chi\"]\n",
    "\n",
    "OR a less tedious way\n",
    "\n",
    "df[\"Marks\"] = df.iloc[ : , 4:10].sum(axis=1) #axis=1 gets the total sum horizontally if its axis=0 its a vertical addition\n",
    "\n",
    "### Deleting column \n",
    "\n",
    "df = df.drop(columns = \"Total\")\n",
    "\n",
    "### Changing name of values \n",
    "\n",
    "df.loc[ df[\"Name\"] == \"Singpore\", \"Name\" ] = \"Singapore\""
   ]
  },
  {
   "cell_type": "markdown",
   "id": "2e87f8a2-579e-4de4-81c1-36fe5fe1e381",
   "metadata": {},
   "source": [
    "## Saving the data"
   ]
  },
  {
   "cell_type": "markdown",
   "id": "c2aadc6f-512b-403f-9a7c-3299fffaf5d9",
   "metadata": {},
   "source": [
    "df.to_csv(\"new_file.csv\") # df being the variable assigned to the dataframe\n",
    "\n",
    "df.to_excel('new_file.xlsx')"
   ]
  },
  {
   "cell_type": "code",
   "execution_count": null,
   "id": "b55da6b7-6ccd-4a9a-ab4e-b74cc4d4ca2c",
   "metadata": {},
   "outputs": [],
   "source": []
  }
 ],
 "metadata": {
  "kernelspec": {
   "display_name": "Python 3 (ipykernel)",
   "language": "python",
   "name": "python3"
  },
  "language_info": {
   "codemirror_mode": {
    "name": "ipython",
    "version": 3
   },
   "file_extension": ".py",
   "mimetype": "text/x-python",
   "name": "python",
   "nbconvert_exporter": "python",
   "pygments_lexer": "ipython3",
   "version": "3.9.13"
  }
 },
 "nbformat": 4,
 "nbformat_minor": 5
}
