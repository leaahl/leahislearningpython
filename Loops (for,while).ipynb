{
 "cells": [
  {
   "cell_type": "markdown",
   "id": "ab8a0534-7ef2-4472-bd49-eb1f48e04515",
   "metadata": {},
   "source": [
    "## Loops:\n",
    "**while, for loops**"
   ]
  },
  {
   "cell_type": "markdown",
   "id": "1e1453e0-f323-46b0-9069-42d4db38be14",
   "metadata": {},
   "source": [
    "### While loops"
   ]
  },
  {
   "cell_type": "code",
   "execution_count": 2,
   "id": "0b416768-a6d6-437f-94c2-9304bc80f782",
   "metadata": {},
   "outputs": [
    {
     "name": "stdout",
     "output_type": "stream",
     "text": [
      "this is funny\n",
      "this is funny\n",
      "this is funny\n",
      "this is funny\n",
      "this is funny\n",
      "this is funny\n",
      "this is funny\n",
      "this is funny\n",
      "this is funny\n",
      "this is funny\n"
     ]
    }
   ],
   "source": [
    "i = 1 # first assign a number to i\n",
    "while i <= 10: # how many times do you wanna loop? Don't forget the semicolon !!\n",
    "    print (\"this is funny\")\n",
    "    i = i + 1 ## this takes the first i which is 1 and adds it until it reaches 10 then stops"
   ]
  },
  {
   "cell_type": "code",
   "execution_count": null,
   "id": "e5fbfb1c-288d-4210-acc7-7591c4f26239",
   "metadata": {},
   "outputs": [],
   "source": [
    "i = 1\n",
    "while i <= 10: \n",
    "    i = i + 1\n",
    "    print (i)"
   ]
  },
  {
   "cell_type": "code",
   "execution_count": null,
   "id": "471f2298-8a24-459d-af53-09cd9e73f53d",
   "metadata": {},
   "outputs": [],
   "source": []
  },
  {
   "cell_type": "code",
   "execution_count": 3,
   "id": "0a5d4728-269a-4870-8680-cff3916b0533",
   "metadata": {},
   "outputs": [
    {
     "name": "stdout",
     "output_type": "stream",
     "text": [
      "1\n",
      "2\n",
      "3\n",
      "4\n",
      "5\n",
      "6\n",
      "7\n",
      "8\n",
      "9\n",
      "10\n"
     ]
    }
   ],
   "source": [
    "i = 1\n",
    "while i <= 10: \n",
    "    print (i)\n",
    "    i = i + 1"
   ]
  },
  {
   "cell_type": "markdown",
   "id": "92d77e79-24e4-4f1c-acbd-7f1fefe2fa83",
   "metadata": {},
   "source": [
    "#### Now, let's do a decrement"
   ]
  },
  {
   "cell_type": "code",
   "execution_count": 5,
   "id": "8b706b13-4667-41ee-8f11-5b51e659c0ee",
   "metadata": {},
   "outputs": [
    {
     "name": "stdout",
     "output_type": "stream",
     "text": [
      "it's gonna be a decrement 5\n",
      "it's gonna be a decrement 4\n",
      "it's gonna be a decrement 3\n",
      "it's gonna be a decrement 2\n"
     ]
    }
   ],
   "source": [
    "i = 5 \n",
    "while i > 1 : \n",
    "    print (\"it's gonna be a decrement\", i)\n",
    "    i = i - 1"
   ]
  },
  {
   "cell_type": "markdown",
   "id": "49c17e9d-315b-4b8d-8ec8-e4777e9bd0ca",
   "metadata": {},
   "source": [
    "#### Nested loop query (while within a while)"
   ]
  },
  {
   "cell_type": "code",
   "execution_count": 6,
   "id": "84c30133-8d4a-4f05-aa0d-c507db8914f6",
   "metadata": {},
   "outputs": [
    {
     "name": "stdout",
     "output_type": "stream",
     "text": [
      "hey there there there there \n",
      "hey there there there there \n",
      "hey there there there there \n",
      "hey there there there there \n",
      "hey there there there there \n"
     ]
    }
   ],
   "source": [
    "i = 1\n",
    "while i <= 5: \n",
    "    print (\"hey \", end = \"\")\n",
    "    j = 1 #these lines are executed second\n",
    "    while j <= 4: #\n",
    "        print (\"there \", end =\"\") #\n",
    "        j = j +1 # print 4 times\n",
    "        \n",
    "    i = i + 1 # then goes back to the main loop to print a second line\n",
    "    \n",
    "    print()"
   ]
  },
  {
   "cell_type": "markdown",
   "id": "0cd4f5e1-bd89-4112-92cd-41d4b3a7e068",
   "metadata": {},
   "source": [
    "### For loops"
   ]
  },
  {
   "cell_type": "code",
   "execution_count": 7,
   "id": "7e68b3db-d6a7-49cd-8e10-7ab367fba2b2",
   "metadata": {},
   "outputs": [
    {
     "name": "stdout",
     "output_type": "stream",
     "text": [
      "12\n",
      "Leah\n",
      "48\n",
      "28\n"
     ]
    }
   ],
   "source": [
    "x = [12, \"Leah\", 48, 28] # this is a list remember \n",
    "for i in x:\n",
    "    print (i)"
   ]
  },
  {
   "cell_type": "code",
   "execution_count": 8,
   "id": "f9277b08-a28e-4754-8d7f-28d63304354d",
   "metadata": {},
   "outputs": [
    {
     "name": "stdout",
     "output_type": "stream",
     "text": [
      "L\n",
      "e\n",
      "a\n",
      "h\n"
     ]
    }
   ],
   "source": [
    "x = \"Leah\"\n",
    "for i in x: \n",
    "    print (i)"
   ]
  },
  {
   "cell_type": "code",
   "execution_count": 9,
   "id": "44b5f39c-8264-4f67-bd83-a57e899ebf74",
   "metadata": {},
   "outputs": [
    {
     "name": "stdout",
     "output_type": "stream",
     "text": [
      "12\n",
      "Leah\n",
      "48\n",
      "28\n"
     ]
    }
   ],
   "source": [
    "for i in [12, \"Leah\", 48, 28]: \n",
    "    print (i)"
   ]
  },
  {
   "cell_type": "code",
   "execution_count": 10,
   "id": "39337342-427b-4c20-83af-d64d4e492e07",
   "metadata": {},
   "outputs": [
    {
     "name": "stdout",
     "output_type": "stream",
     "text": [
      "0\n",
      "1\n",
      "2\n",
      "3\n",
      "4\n",
      "5\n",
      "6\n",
      "7\n",
      "8\n",
      "9\n"
     ]
    }
   ],
   "source": [
    "for i in range(10):\n",
    "    print(i)"
   ]
  },
  {
   "cell_type": "code",
   "execution_count": 16,
   "id": "771d4b93-9e14-4e49-b5db-c07e0ab7dad0",
   "metadata": {},
   "outputs": [
    {
     "name": "stdout",
     "output_type": "stream",
     "text": [
      "Leah\n",
      "K\n",
      "mum\n",
      "dad\n"
     ]
    }
   ],
   "source": [
    "names = [\"Leah\", \"K\", \"mum\", \"dad\"]\n",
    "i = 0\n",
    "while i < len(names):\n",
    "    print(names[i])\n",
    "    i = i +1"
   ]
  },
  {
   "cell_type": "code",
   "execution_count": 32,
   "id": "d8e1c2bb-0fcc-4dc3-acb8-5309e66806f8",
   "metadata": {},
   "outputs": [
    {
     "name": "stdout",
     "output_type": "stream",
     "text": [
      "Leah\n",
      "K\n",
      "mum\n",
      "dad\n"
     ]
    }
   ],
   "source": [
    "names = [\"Leah\", \"K\", \"mum\", \"dad\"]\n",
    "i = 0\n",
    "while i < len(names):\n",
    "    if i == \"K\":\n",
    "        continue\n",
    "    print(names[i])\n",
    "    i = i +1"
   ]
  },
  {
   "cell_type": "code",
   "execution_count": 68,
   "id": "18bcbe8c-d746-467d-bb7d-d31299188628",
   "metadata": {},
   "outputs": [
    {
     "name": "stdout",
     "output_type": "stream",
     "text": [
      "Leah\n",
      "K\n"
     ]
    }
   ],
   "source": [
    "names = [\"Leah\", \"K\", \"mum\", \"dad\"]\n",
    "for i in names:\n",
    "    print (i)\n",
    "    if i == \"K\":\n",
    "        break"
   ]
  },
  {
   "cell_type": "code",
   "execution_count": 55,
   "id": "2a7340bd-bf61-4171-b955-042bf71fbed4",
   "metadata": {},
   "outputs": [
    {
     "name": "stdout",
     "output_type": "stream",
     "text": [
      "John\n",
      "Jane\n"
     ]
    }
   ],
   "source": [
    "names = [\"John\", \"Jane\", \"Doe\"]\n",
    "for i in names:\n",
    "    print(i)\n",
    "    if i == \"Jane\":\n",
    "        break"
   ]
  },
  {
   "cell_type": "code",
   "execution_count": 63,
   "id": "ec1718cb-6f4e-4e94-b2fe-b2687aa3f37a",
   "metadata": {},
   "outputs": [
    {
     "name": "stdout",
     "output_type": "stream",
     "text": [
      "apple\n",
      "banana\n"
     ]
    }
   ],
   "source": [
    "fruits = [\"apple\", \"banana\", \"cherry\"]\n",
    "for i in fruits:\n",
    "    print (i)\n",
    "    if i == \"banana\":\n",
    "        break"
   ]
  },
  {
   "cell_type": "markdown",
   "id": "58229ef9-7369-4e3f-b793-c46c9cd38c41",
   "metadata": {
    "tags": []
   },
   "source": [
    "## Applying break, continue, pass to loops"
   ]
  },
  {
   "cell_type": "code",
   "execution_count": 1,
   "id": "46dcf9c4-ecb5-4ef5-a1f6-1018cbe700fe",
   "metadata": {},
   "outputs": [
    {
     "name": "stdout",
     "output_type": "stream",
     "text": [
      "1\n",
      "2\n",
      "3\n",
      "4\n",
      "5\n",
      "7\n",
      "8\n",
      "9\n",
      "10\n",
      "11\n"
     ]
    }
   ],
   "source": [
    "i = 0\n",
    "while i <= 10:\n",
    "    i = i + 1\n",
    "    if i == 6:\n",
    "        continue\n",
    "    print(i)"
   ]
  },
  {
   "cell_type": "code",
   "execution_count": 2,
   "id": "f9d7b994-3153-4e86-a621-26044c399d71",
   "metadata": {},
   "outputs": [
    {
     "name": "stdout",
     "output_type": "stream",
     "text": [
      "1\n",
      "2\n",
      "3\n",
      "4\n",
      "5\n"
     ]
    }
   ],
   "source": [
    "i = 0\n",
    "while i <=10:\n",
    "    i = i + 1\n",
    "    if i == 6:\n",
    "        break\n",
    "    print(i)"
   ]
  },
  {
   "cell_type": "markdown",
   "id": "059314e0-9089-4b83-abdf-f4975a6d391c",
   "metadata": {},
   "source": [
    "#### Let's say we want the user to give the input for i . Let's call the variable x"
   ]
  },
  {
   "cell_type": "code",
   "execution_count": 1,
   "id": "659195ef-dee4-44bc-9a53-6fd0eeaba5d1",
   "metadata": {},
   "outputs": [
    {
     "name": "stdin",
     "output_type": "stream",
     "text": [
      "how many sweet(s) do you want? 2\n"
     ]
    },
    {
     "name": "stdout",
     "output_type": "stream",
     "text": [
      "here's your sweet(s)\n",
      "here's your sweet(s)\n"
     ]
    }
   ],
   "source": [
    "x = int(input(\"how many sweet(s) do you want?\"))\n",
    "\n",
    "i = 1\n",
    "while i <= x:\n",
    "    print(\"here's your sweet(s)\")\n",
    "    i = i + 1"
   ]
  },
  {
   "cell_type": "code",
   "execution_count": 3,
   "id": "9110d1e9-a587-4de6-ac1a-a483b59acbb5",
   "metadata": {},
   "outputs": [
    {
     "name": "stdin",
     "output_type": "stream",
     "text": [
      "how many sweet(s) do you want? 11\n"
     ]
    },
    {
     "name": "stdout",
     "output_type": "stream",
     "text": [
      "here's your sweet(s)\n",
      "here's your sweet(s)\n",
      "here's your sweet(s)\n",
      "here's your sweet(s)\n",
      "here's your sweet(s)\n",
      "here's your sweet(s)\n",
      "here's your sweet(s)\n",
      "here's your sweet(s)\n",
      "here's your sweet(s)\n",
      "here's your sweet(s)\n",
      "nothing for you\n"
     ]
    }
   ],
   "source": [
    "av = 10\n",
    "x = int(input(\"how many sweet(s) do you want?\"))\n",
    "\n",
    "i = 1\n",
    "while i <= x:\n",
    "    if i > av:\n",
    "        break \n",
    "    \n",
    "    print(\"here's your sweet(s)\")\n",
    "    i = i + 1\n",
    "\n",
    "print (\"nothing for you\")"
   ]
  },
  {
   "cell_type": "code",
   "execution_count": 4,
   "id": "558b33a8-514d-41a6-9a7f-3000710b87e2",
   "metadata": {},
   "outputs": [
    {
     "name": "stdin",
     "output_type": "stream",
     "text": [
      "how many you want? 11\n"
     ]
    },
    {
     "name": "stdout",
     "output_type": "stream",
     "text": [
      "1 candy\n",
      "1 candy\n",
      "1 candy\n",
      "1 candy\n",
      "1 candy\n",
      "1 candy\n",
      "1 candy\n",
      "1 candy\n",
      "1 candy\n",
      "1 candy\n",
      "hmm no more?\n"
     ]
    }
   ],
   "source": [
    "av = 10\n",
    "x = int(input(\"how many you want?\"))\n",
    "\n",
    "i = 1 \n",
    "while i <= x:\n",
    "    if i>av: # take note i always make mistake here, always use i and not x \n",
    "        break\n",
    "    print (\"1 candy\")\n",
    "    i = i + 1\n",
    "    \n",
    "print(\"hmm no more?\")\n",
    "    \n"
   ]
  },
  {
   "cell_type": "markdown",
   "id": "95a317a2-8396-4fcf-ac0a-0c84786ef64a",
   "metadata": {},
   "source": [
    "#### an example with a for loop with continue"
   ]
  },
  {
   "cell_type": "code",
   "execution_count": 9,
   "id": "e2a142b5-643b-48da-915d-1e6be8d958b7",
   "metadata": {},
   "outputs": [
    {
     "name": "stdout",
     "output_type": "stream",
     "text": [
      "1\n",
      "2\n",
      "4\n",
      "5\n",
      "7\n",
      "8\n",
      "10\n",
      "11\n",
      "13\n",
      "14\n",
      "16\n",
      "17\n",
      "19\n",
      "20\n",
      "22\n",
      "23\n",
      "25\n",
      "26\n",
      "28\n",
      "29\n",
      "31\n",
      "32\n",
      "34\n",
      "35\n",
      "37\n",
      "38\n",
      "40\n",
      "41\n",
      "43\n",
      "44\n",
      "46\n",
      "47\n",
      "49\n",
      "50\n"
     ]
    }
   ],
   "source": [
    "for i in range (1,51):\n",
    "    \n",
    "    if i % 3 ==0:\n",
    "        continue\n",
    "    print (i)"
   ]
  },
  {
   "cell_type": "code",
   "execution_count": 11,
   "id": "a50f1970-4754-46e9-a1cf-058aecd78e78",
   "metadata": {},
   "outputs": [
    {
     "name": "stdout",
     "output_type": "stream",
     "text": [
      "2\n",
      "4\n",
      "6\n",
      "8\n",
      "10\n",
      "12\n",
      "14\n",
      "16\n",
      "18\n",
      "20\n",
      "22\n",
      "24\n",
      "26\n",
      "28\n",
      "30\n"
     ]
    }
   ],
   "source": [
    "for i in range (1,31):\n",
    "    \n",
    "    if i%2 !=0: #meaning that odd numbers will be skipped\n",
    "        pass \n",
    "    else:\n",
    "        print (i)"
   ]
  },
  {
   "cell_type": "code",
   "execution_count": 106,
   "id": "81aca749-7659-449a-96a9-91d85d7afc9a",
   "metadata": {},
   "outputs": [
    {
     "name": "stdin",
     "output_type": "stream",
     "text": [
      "Input name here:  Doe\n"
     ]
    },
    {
     "name": "stdout",
     "output_type": "stream",
     "text": [
      "present\n"
     ]
    }
   ],
   "source": [
    "names = [\"John\", \"Jane\", \"Doe\", \"Mary\", \"Doe\", \"Sam\"]\n",
    "\n",
    "a = False\n",
    "b = str(input(\"Input name here: \"))\n",
    "\n",
    "for i in names: \n",
    "    if i == b:\n",
    "        a = True\n",
    "        break\n",
    "        \n",
    "        \n",
    "if a == True:\n",
    "    print(\"present\")\n",
    "        \n",
    "else:\n",
    "    print(\"Absent\")\n"
   ]
  },
  {
   "cell_type": "code",
   "execution_count": null,
   "id": "369201fd-54da-4ea7-bf48-9b99a996596b",
   "metadata": {},
   "outputs": [],
   "source": []
  }
 ],
 "metadata": {
  "kernelspec": {
   "display_name": "Python 3 (ipykernel)",
   "language": "python",
   "name": "python3"
  },
  "language_info": {
   "codemirror_mode": {
    "name": "ipython",
    "version": 3
   },
   "file_extension": ".py",
   "mimetype": "text/x-python",
   "name": "python",
   "nbconvert_exporter": "python",
   "pygments_lexer": "ipython3",
   "version": "3.9.13"
  }
 },
 "nbformat": 4,
 "nbformat_minor": 5
}
