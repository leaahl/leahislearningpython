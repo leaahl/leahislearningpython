{
 "cells": [
  {
   "cell_type": "markdown",
   "id": "0f21013c-2afb-4ca5-8c78-5f991d491274",
   "metadata": {},
   "source": [
    "### Python optional project\n",
    "\n",
    "***password management system***\n",
    "\n",
    "Objective: To develop a custom password management application using Python"
   ]
  },
  {
   "cell_type": "markdown",
   "id": "3c2f057e-f42d-4f25-a18e-3656b1f33f40",
   "metadata": {},
   "source": [
    "### Menu"
   ]
  },
  {
   "cell_type": "code",
   "execution_count": 95,
   "id": "ffbf42c7-ed1b-45a4-ab9f-2433fc916b5d",
   "metadata": {},
   "outputs": [
    {
     "name": "stdout",
     "output_type": "stream",
     "text": [
      "\n",
      "    IT Support Password Management System Application\n",
      "    *************************************************\n",
      "    1. Display all user accounts\n",
      "    2. Create new user account\n",
      "    3. Update user password\n",
      "    4. Unlock user account\n",
      "    5. Exit application\n",
      "        \n",
      "        \n"
     ]
    },
    {
     "name": "stdin",
     "output_type": "stream",
     "text": [
      "Enter your option [1-5]:  1\n"
     ]
    },
    {
     "name": "stdout",
     "output_type": "stream",
     "text": [
      "User ID    Password        Account Status \n",
      "kennethlow asdasd          active         \n",
      "jamestan   asdasd          active         \n",
      "imransahat asdasd          active         \n",
      "riley      asdasd          locked         \n"
     ]
    }
   ],
   "source": [
    "def menu():\n",
    "        \n",
    "        print(\"\"\"\n",
    "    IT Support Password Management System Application\n",
    "    *************************************************\n",
    "    1. Display all user accounts\n",
    "    2. Create new user account\n",
    "    3. Update user password\n",
    "    4. Unlock user account\n",
    "    5. Exit application\n",
    "        \n",
    "        \"\"\")\n",
    "        \n",
    "\n",
    "        option = int(input(\"Enter your option [1-5]: \"))\n",
    "\n",
    "        if option == 1:\n",
    "            display_users()\n",
    "        \n",
    "        elif option == 2:\n",
    "            create_user()\n",
    "        \n",
    "        elif option == 3:\n",
    "            update_pw()\n",
    "    \n",
    "        elif option == 4:\n",
    "            unlock_account()\n",
    "            \n",
    "        else:\n",
    "            print(\"Invalid choice. Please try again.\\n\")\n",
    "            \n",
    "menu()"
   ]
  },
  {
   "cell_type": "markdown",
   "id": "5ecbddd8-67ee-4c8a-887a-ab970df0f0f5",
   "metadata": {},
   "source": [
    "### Display all user accounts"
   ]
  },
  {
   "cell_type": "code",
   "execution_count": 85,
   "id": "de9c944f-43f0-4f21-b39b-4a5cb02fc86c",
   "metadata": {},
   "outputs": [
    {
     "name": "stdout",
     "output_type": "stream",
     "text": [
      "User ID    Password        Account Status \n",
      "kennethlow asdasd          active         \n",
      "jamestan   asdasd          active         \n",
      "imransahat asdasd          locked         \n",
      "riley      asdasd          locked         \n"
     ]
    }
   ],
   "source": [
    "users = {\"kennethlow\": [\"asdasd\", \"active\"], \"jamestan\": [\"asdasd\", \"active\"], \"imransahat\": [\"asdasd\", \"locked\"], \"riley\": [\"asdasd\", \"locked\"]}\n",
    "\n",
    "def display_users():\n",
    "\n",
    "    print(\"{:<10} {:<15} {:<15}\".format(\"User ID\", \"Password\", \"Account Status\"))\n",
    "    \n",
    "    for user_id, user_data in users.items():\n",
    "        password = user_data[0]\n",
    "        account_status = user_data[1]\n",
    "        print(\"{:<10} {:<15} {:<15}\".format(user_id, password, account_status)) #note to self, be careful with indentations\n",
    "\n",
    "display_users()"
   ]
  },
  {
   "cell_type": "markdown",
   "id": "d13f3edd-6f6b-43ed-bde6-82304477c149",
   "metadata": {},
   "source": [
    "### Create new user account"
   ]
  },
  {
   "cell_type": "code",
   "execution_count": 45,
   "id": "c7ebd437-8db9-4181-9584-13f977f7cf4b",
   "metadata": {},
   "outputs": [
    {
     "name": "stdin",
     "output_type": "stream",
     "text": [
      "Enter New User ID:  marylouis\n"
     ]
    }
   ],
   "source": [
    "newuser = str(input(\"Enter New User ID: \"))\n",
    "\n",
    "def create_user():\n",
    "    users.update(\n",
    "        { (newuser): [\"p@ssw0rd\", \"active\"] }\n",
    "    )\n",
    "                  \n",
    "create_user()"
   ]
  },
  {
   "cell_type": "code",
   "execution_count": 46,
   "id": "796175a5-f630-47a3-b6a9-085f13cb687e",
   "metadata": {},
   "outputs": [
    {
     "name": "stdout",
     "output_type": "stream",
     "text": [
      "User ID    Password        Account Status \n",
      "kennethlow asdasd          active         \n",
      "jamestan   asdasd          active         \n",
      "imransahat asdasd          locked         \n",
      "marylouis  p@ssw0rd        active         \n"
     ]
    }
   ],
   "source": [
    "display_users()"
   ]
  },
  {
   "cell_type": "markdown",
   "id": "468ed2f8-3d9c-4d13-b750-5c5ccbe6780c",
   "metadata": {},
   "source": [
    "### Update Password"
   ]
  },
  {
   "cell_type": "code",
   "execution_count": 52,
   "id": "9afaa77b-00c8-403b-9d50-accb5aed4026",
   "metadata": {},
   "outputs": [
    {
     "name": "stdin",
     "output_type": "stream",
     "text": [
      "Enter User ID:  sdf\n",
      "Enter new password:  sdf\n"
     ]
    },
    {
     "name": "stdout",
     "output_type": "stream",
     "text": [
      "Invalid user ID\n"
     ]
    }
   ],
   "source": [
    "enteruser = str(input(\"Enter User ID: \"))\n",
    "newpw = str(input(\"Enter new password: \"))\n",
    "\n",
    "x = False\n",
    "for user in users: \n",
    "    if users == enteruser:\n",
    "        x = True\n",
    "        break\n",
    "        \n",
    "if x == True:\n",
    "    users[user_id] = [\"(newpw)\", \"active\"]\n",
    "        \n",
    "else: \n",
    "    print(\"Invalid user ID\")"
   ]
  },
  {
   "cell_type": "code",
   "execution_count": 65,
   "id": "e49a55fd-f41a-4ed7-b4c5-bb081cd2ee57",
   "metadata": {},
   "outputs": [
    {
     "name": "stdin",
     "output_type": "stream",
     "text": [
      "Enter User ID:  sfsd\n"
     ]
    },
    {
     "name": "stdout",
     "output_type": "stream",
     "text": [
      "Invalid user ID.\n"
     ]
    }
   ],
   "source": [
    "def update_pw():\n",
    "    user = str(input(\"Enter User ID: \"))\n",
    "    \n",
    "    if user in users:\n",
    "        newpw = str(input(\"Enter new password: \"))\n",
    "        while len(newpw) < 6:\n",
    "            print(\"Password must contain at least 6 characters.\")\n",
    "            newpw = input(\"Enter new password (at least 6 characters): \")\n",
    "        users[user_id][0] = newpw                                 #This only updates the password because the first element is 0\n",
    "        print(\"Password for user ID\", user_id, \"has been updated.\")\n",
    "    \n",
    "    else:\n",
    "        print(\"Invalid user ID.\")\n",
    "\n",
    "update_pw()"
   ]
  },
  {
   "cell_type": "markdown",
   "id": "f402fa6f-8a60-480b-9d01-af59a70a06c0",
   "metadata": {},
   "source": [
    "### Unlock Account"
   ]
  },
  {
   "cell_type": "code",
   "execution_count": 86,
   "id": "c5b4244e-babe-4b89-ab18-84c601c38c0e",
   "metadata": {},
   "outputs": [
    {
     "name": "stdin",
     "output_type": "stream",
     "text": [
      "Enter User ID:  imransahat\n"
     ]
    },
    {
     "name": "stdout",
     "output_type": "stream",
     "text": [
      "Account for imransahat has been unlocked successfully.\n"
     ]
    }
   ],
   "source": [
    "def unlock_account():\n",
    "    user = str(input(\"Enter User ID: \"))\n",
    "    \n",
    "    if user in users:\n",
    "        \n",
    "        if users[user_id][1] == \"active\":\n",
    "            print (\"Account for\", user_id, \"is already active.\")\n",
    "        \n",
    "        else:\n",
    "            users[user_id][1] = \"active\"\n",
    "            print (\"Account for\", user_id, \"has been unlocked successfully.\")\n",
    "        \n",
    "    else:\n",
    "        print(\"Invalid user ID.\")\n",
    "        \n",
    "unlock_account()"
   ]
  },
  {
   "cell_type": "code",
   "execution_count": 93,
   "id": "8c9a72be-8815-4d4d-9ccc-99e7bb92b371",
   "metadata": {},
   "outputs": [
    {
     "data": {
      "text/plain": [
       "{'kennethlow': ['asdasd', 'active'],\n",
       " 'jamestan': ['asdasd', 'active'],\n",
       " 'imransahat': ['asdasd', 'active'],\n",
       " 'riley': ['asdasd', 'locked']}"
      ]
     },
     "execution_count": 93,
     "metadata": {},
     "output_type": "execute_result"
    }
   ],
   "source": [
    "users   # updated line 85 to validate the code is working as dictionary only had one locked account"
   ]
  },
  {
   "cell_type": "markdown",
   "id": "78804078-6954-45c5-af09-8c1215984c6f",
   "metadata": {},
   "source": [
    "### Check user"
   ]
  },
  {
   "cell_type": "code",
   "execution_count": 106,
   "id": "08b59708-ffac-4d09-b12c-6ce91ea67c9b",
   "metadata": {},
   "outputs": [
    {
     "name": "stdin",
     "output_type": "stream",
     "text": [
      "Enter User ID:  12\n"
     ]
    },
    {
     "name": "stdout",
     "output_type": "stream",
     "text": [
      "Invalid user ID.\n"
     ]
    }
   ],
   "source": [
    "def check_user():\n",
    "    user = str(input(\"Enter User ID: \"))\n",
    "    \n",
    "    if user in users:\n",
    "        print(user_id)\n",
    "        \n",
    "    else:\n",
    "        print(\"Invalid user ID.\")\n",
    "        \n",
    "check_user()"
   ]
  },
  {
   "cell_type": "code",
   "execution_count": null,
   "id": "5cee55d3-109a-4d0d-9d71-28c6be967832",
   "metadata": {},
   "outputs": [],
   "source": []
  }
 ],
 "metadata": {
  "kernelspec": {
   "display_name": "Python 3 (ipykernel)",
   "language": "python",
   "name": "python3"
  },
  "language_info": {
   "codemirror_mode": {
    "name": "ipython",
    "version": 3
   },
   "file_extension": ".py",
   "mimetype": "text/x-python",
   "name": "python",
   "nbconvert_exporter": "python",
   "pygments_lexer": "ipython3",
   "version": "3.9.13"
  }
 },
 "nbformat": 4,
 "nbformat_minor": 5
}
