{
 "cells": [
  {
   "cell_type": "code",
   "execution_count": 1,
   "id": "78c7c022-8c61-444e-99ab-3b2252021376",
   "metadata": {},
   "outputs": [],
   "source": [
    "n = 2.5"
   ]
  },
  {
   "cell_type": "code",
   "execution_count": 2,
   "id": "370a7a2d-7c10-49be-b37d-07d7195d5cfb",
   "metadata": {},
   "outputs": [
    {
     "data": {
      "text/plain": [
       "float"
      ]
     },
     "execution_count": 2,
     "metadata": {},
     "output_type": "execute_result"
    }
   ],
   "source": [
    "type (n)"
   ]
  },
  {
   "cell_type": "code",
   "execution_count": 3,
   "id": "b7eef2bc-a688-450f-8701-0c9b794ef5e0",
   "metadata": {},
   "outputs": [],
   "source": [
    "n = 5"
   ]
  },
  {
   "cell_type": "code",
   "execution_count": 4,
   "id": "5799371d-aa37-4a2a-a619-71231ab1a3e6",
   "metadata": {},
   "outputs": [
    {
     "data": {
      "text/plain": [
       "int"
      ]
     },
     "execution_count": 4,
     "metadata": {},
     "output_type": "execute_result"
    }
   ],
   "source": [
    "type (n)"
   ]
  },
  {
   "cell_type": "code",
   "execution_count": 5,
   "id": "1fb83a37-24ff-4faa-9e55-ca7fdbb4a453",
   "metadata": {},
   "outputs": [],
   "source": [
    "n = 5 + 3j"
   ]
  },
  {
   "cell_type": "code",
   "execution_count": 6,
   "id": "de02f3bb-191b-4e84-ab70-7894202f1138",
   "metadata": {},
   "outputs": [
    {
     "data": {
      "text/plain": [
       "complex"
      ]
     },
     "execution_count": 6,
     "metadata": {},
     "output_type": "execute_result"
    }
   ],
   "source": [
    "type (n)"
   ]
  },
  {
   "cell_type": "code",
   "execution_count": 7,
   "id": "dce9a440-b6e5-4f6e-888f-ef9af3568353",
   "metadata": {},
   "outputs": [],
   "source": [
    "a = 5.5\n",
    "b = int(a)"
   ]
  },
  {
   "cell_type": "code",
   "execution_count": 8,
   "id": "ae2e00f8-52b8-483f-9980-9afe181a08d4",
   "metadata": {},
   "outputs": [
    {
     "data": {
      "text/plain": [
       "int"
      ]
     },
     "execution_count": 8,
     "metadata": {},
     "output_type": "execute_result"
    }
   ],
   "source": [
    "type (b)"
   ]
  },
  {
   "cell_type": "code",
   "execution_count": 9,
   "id": "66969e58-645b-4da2-b5a3-dd755d62846d",
   "metadata": {},
   "outputs": [],
   "source": [
    "k = float(b)"
   ]
  },
  {
   "cell_type": "code",
   "execution_count": 10,
   "id": "9baaf347-9ca8-4366-b86d-9a17b6acd066",
   "metadata": {},
   "outputs": [
    {
     "data": {
      "text/plain": [
       "float"
      ]
     },
     "execution_count": 10,
     "metadata": {},
     "output_type": "execute_result"
    }
   ],
   "source": [
    "type(k)"
   ]
  },
  {
   "cell_type": "code",
   "execution_count": 11,
   "id": "7056ea1d-0772-41ba-978a-0a8d5050d58a",
   "metadata": {},
   "outputs": [
    {
     "data": {
      "text/plain": [
       "5.0"
      ]
     },
     "execution_count": 11,
     "metadata": {},
     "output_type": "execute_result"
    }
   ],
   "source": [
    "k"
   ]
  },
  {
   "cell_type": "code",
   "execution_count": 12,
   "id": "369ea331-6184-42a8-b849-68eff94b07e6",
   "metadata": {},
   "outputs": [],
   "source": [
    "c = complex(k+b)"
   ]
  },
  {
   "cell_type": "code",
   "execution_count": 13,
   "id": "31b32eac-766c-4b87-a8a2-97f863d62361",
   "metadata": {},
   "outputs": [
    {
     "data": {
      "text/plain": [
       "(10+0j)"
      ]
     },
     "execution_count": 13,
     "metadata": {},
     "output_type": "execute_result"
    }
   ],
   "source": [
    "c"
   ]
  },
  {
   "cell_type": "code",
   "execution_count": 14,
   "id": "ca431c1d-3a5b-4c96-b333-52769a728cc1",
   "metadata": {},
   "outputs": [
    {
     "data": {
      "text/plain": [
       "5"
      ]
     },
     "execution_count": 14,
     "metadata": {},
     "output_type": "execute_result"
    }
   ],
   "source": [
    "b"
   ]
  },
  {
   "cell_type": "code",
   "execution_count": 15,
   "id": "00eb530d-63dd-481f-ab16-1d01c5cc79fe",
   "metadata": {},
   "outputs": [],
   "source": [
    "c = complex (k, b)"
   ]
  },
  {
   "cell_type": "code",
   "execution_count": 16,
   "id": "d35a5ada-4db8-49a5-bb08-0e82882eb2cc",
   "metadata": {},
   "outputs": [
    {
     "data": {
      "text/plain": [
       "(5+5j)"
      ]
     },
     "execution_count": 16,
     "metadata": {},
     "output_type": "execute_result"
    }
   ],
   "source": [
    "c"
   ]
  },
  {
   "cell_type": "code",
   "execution_count": 17,
   "id": "cd15427a-98f5-46e0-8970-fd17dc293044",
   "metadata": {},
   "outputs": [
    {
     "data": {
      "text/plain": [
       "False"
      ]
     },
     "execution_count": 17,
     "metadata": {},
     "output_type": "execute_result"
    }
   ],
   "source": [
    "b<k"
   ]
  },
  {
   "cell_type": "code",
   "execution_count": 18,
   "id": "6e5bebae-e7a7-4af1-9a7d-ee8ad9498904",
   "metadata": {},
   "outputs": [
    {
     "data": {
      "text/plain": [
       "False"
      ]
     },
     "execution_count": 18,
     "metadata": {},
     "output_type": "execute_result"
    }
   ],
   "source": [
    "b>k"
   ]
  },
  {
   "cell_type": "code",
   "execution_count": 20,
   "id": "aa09d449-787c-456f-9d7d-eb8c22696ba9",
   "metadata": {},
   "outputs": [],
   "source": [
    "b = k"
   ]
  },
  {
   "cell_type": "code",
   "execution_count": 22,
   "id": "f3a767e8-4044-4b23-986a-161a5dc1d458",
   "metadata": {},
   "outputs": [],
   "source": [
    "lst = [1,5,2,22]"
   ]
  },
  {
   "cell_type": "code",
   "execution_count": 23,
   "id": "1e390855-3157-4a1a-a864-570b67790fe9",
   "metadata": {},
   "outputs": [
    {
     "data": {
      "text/plain": [
       "list"
      ]
     },
     "execution_count": 23,
     "metadata": {},
     "output_type": "execute_result"
    }
   ],
   "source": [
    "type (lst)"
   ]
  },
  {
   "cell_type": "code",
   "execution_count": 24,
   "id": "ed71e6ef-e699-4162-897d-d826da4909f3",
   "metadata": {},
   "outputs": [],
   "source": [
    "a = {1,56,2,10}"
   ]
  },
  {
   "cell_type": "code",
   "execution_count": 25,
   "id": "d722de23-8377-4d4c-b749-8e6961175c6f",
   "metadata": {},
   "outputs": [
    {
     "data": {
      "text/plain": [
       "set"
      ]
     },
     "execution_count": 25,
     "metadata": {},
     "output_type": "execute_result"
    }
   ],
   "source": [
    "type (a)"
   ]
  },
  {
   "cell_type": "code",
   "execution_count": 26,
   "id": "d5edf888-5f8a-4f03-8b65-097a12cf8692",
   "metadata": {},
   "outputs": [],
   "source": [
    "t = (1,50,3,10)"
   ]
  },
  {
   "cell_type": "code",
   "execution_count": 27,
   "id": "b52dbcc1-eddc-4321-b077-677df015b1f6",
   "metadata": {},
   "outputs": [
    {
     "data": {
      "text/plain": [
       "tuple"
      ]
     },
     "execution_count": 27,
     "metadata": {},
     "output_type": "execute_result"
    }
   ],
   "source": [
    "type (t)"
   ]
  },
  {
   "cell_type": "code",
   "execution_count": 28,
   "id": "034f5028-f92b-4a9a-8c99-40ffeb736205",
   "metadata": {},
   "outputs": [
    {
     "data": {
      "text/plain": [
       "range(0, 50)"
      ]
     },
     "execution_count": 28,
     "metadata": {},
     "output_type": "execute_result"
    }
   ],
   "source": [
    "range (50)"
   ]
  },
  {
   "cell_type": "code",
   "execution_count": 30,
   "id": "1d2af6e5-fa9b-457e-87ea-360c715306a2",
   "metadata": {},
   "outputs": [
    {
     "data": {
      "text/plain": [
       "[0,\n",
       " 1,\n",
       " 2,\n",
       " 3,\n",
       " 4,\n",
       " 5,\n",
       " 6,\n",
       " 7,\n",
       " 8,\n",
       " 9,\n",
       " 10,\n",
       " 11,\n",
       " 12,\n",
       " 13,\n",
       " 14,\n",
       " 15,\n",
       " 16,\n",
       " 17,\n",
       " 18,\n",
       " 19,\n",
       " 20,\n",
       " 21,\n",
       " 22,\n",
       " 23,\n",
       " 24,\n",
       " 25,\n",
       " 26,\n",
       " 27,\n",
       " 28,\n",
       " 29,\n",
       " 30,\n",
       " 31,\n",
       " 32,\n",
       " 33,\n",
       " 34,\n",
       " 35,\n",
       " 36,\n",
       " 37,\n",
       " 38,\n",
       " 39,\n",
       " 40,\n",
       " 41,\n",
       " 42,\n",
       " 43,\n",
       " 44,\n",
       " 45,\n",
       " 46,\n",
       " 47,\n",
       " 48,\n",
       " 49]"
      ]
     },
     "execution_count": 30,
     "metadata": {},
     "output_type": "execute_result"
    }
   ],
   "source": [
    "list (range(50))"
   ]
  },
  {
   "cell_type": "code",
   "execution_count": 31,
   "id": "0a86e662-5ee9-4e93-a5d9-14e19ab27376",
   "metadata": {},
   "outputs": [
    {
     "data": {
      "text/plain": [
       "[0, 1, 2, 3, 4, 5, 6, 7, 8, 9, 10, 11, 12, 13, 14, 15, 16, 17, 18, 19]"
      ]
     },
     "execution_count": 31,
     "metadata": {},
     "output_type": "execute_result"
    }
   ],
   "source": [
    "list(range(20))"
   ]
  },
  {
   "cell_type": "code",
   "execution_count": 32,
   "id": "980da2ee-c9dd-4b00-931b-04f7cd90a034",
   "metadata": {},
   "outputs": [
    {
     "data": {
      "text/plain": [
       "[1, 2, 3, 4, 5, 6, 7, 8, 9, 10, 11, 12, 13, 14, 15, 16, 17, 18, 19]"
      ]
     },
     "execution_count": 32,
     "metadata": {},
     "output_type": "execute_result"
    }
   ],
   "source": [
    "list(range(1,20,1))"
   ]
  },
  {
   "cell_type": "code",
   "execution_count": 33,
   "id": "032ea80a-53a6-4501-8df2-d4db5b5d4177",
   "metadata": {},
   "outputs": [
    {
     "data": {
      "text/plain": [
       "[1, 3, 5, 7, 9, 11, 13, 15, 17, 19]"
      ]
     },
     "execution_count": 33,
     "metadata": {},
     "output_type": "execute_result"
    }
   ],
   "source": [
    "list (range(1,20,2))"
   ]
  },
  {
   "cell_type": "code",
   "execution_count": 34,
   "id": "2163e089-5edb-4dc3-b7b7-18d098ce0ccc",
   "metadata": {},
   "outputs": [
    {
     "data": {
      "text/plain": [
       "[1, 4, 7, 10, 13, 16, 19]"
      ]
     },
     "execution_count": 34,
     "metadata": {},
     "output_type": "execute_result"
    }
   ],
   "source": [
    "list (range(1,20,3))"
   ]
  },
  {
   "cell_type": "code",
   "execution_count": 35,
   "id": "7aa125bb-2a01-48d5-9631-ef1948800dcd",
   "metadata": {},
   "outputs": [],
   "source": [
    "marks = 34"
   ]
  },
  {
   "cell_type": "code",
   "execution_count": 56,
   "id": "089de895-b876-432a-a43e-4825c6a0a5b9",
   "metadata": {},
   "outputs": [
    {
     "name": "stdin",
     "output_type": "stream",
     "text": [
      "enter marks here 91\n"
     ]
    },
    {
     "name": "stdout",
     "output_type": "stream",
     "text": [
      "distinction\n"
     ]
    }
   ],
   "source": [
    "marks = int(input(\"enter marks here\"))\n",
    "if marks >= 100:\n",
    "    print (\"full marks\")\n",
    "    \n",
    "elif marks >= 90:\n",
    "    print (\"distinction\")\n",
    "    \n",
    "elif marks >= 70:\n",
    "    print (\"A grade\")\n",
    "    \n",
    "else: print (\"fail\")"
   ]
  },
  {
   "cell_type": "code",
   "execution_count": 71,
   "id": "7d566527-4c79-4dcd-8baf-e546f6e05c8d",
   "metadata": {},
   "outputs": [
    {
     "name": "stdin",
     "output_type": "stream",
     "text": [
      "enter attendance here 1\n"
     ]
    },
    {
     "name": "stdout",
     "output_type": "stream",
     "text": [
      "you did not attend enough lessons to be graded!!!! Go back to school.\n"
     ]
    }
   ],
   "source": [
    "att = int(input(\"enter attendance here\"))\n",
    "if att >= 75:\n",
    "    \n",
    "    marks = int(input(\"enter marks here\"))\n",
    "\n",
    "    if marks >= 90 and marks <= 100:\n",
    "        print (\"A\")\n",
    "        print (\"Excellent\")\n",
    "    \n",
    "    elif marks >= 80 and marks <= 89:\n",
    "        print (\"B\")\n",
    "        print (\"Very Good\")\n",
    "    \n",
    "    elif marks >= 70 and marks <= 79:\n",
    "        print (\"C\")\n",
    "        print (\"Good\")\n",
    "\n",
    "    elif marks >= 60 & marks <= 69:\n",
    "        print (\"D\")\n",
    "        print (\"Fair\")\n",
    "    \n",
    "    else: \n",
    "        print (\"fail\")\n",
    "    \n",
    "else: \n",
    "        print (\"you did not attend enough lessons to be graded!!!! Go back to school.\")"
   ]
  },
  {
   "cell_type": "code",
   "execution_count": 6,
   "id": "f0956030-e9d7-4e66-8514-4b6184982d97",
   "metadata": {},
   "outputs": [
    {
     "name": "stdin",
     "output_type": "stream",
     "text": [
      "what's the restaurant rating? 1\n"
     ]
    },
    {
     "name": "stdout",
     "output_type": "stream",
     "text": [
      "do not even eat here\n"
     ]
    }
   ],
   "source": [
    "rating = int(input(\"what's the restaurant rating?\"))\n",
    "\n",
    "if rating >= 5:\n",
    "    print(\"5 stars\")\n",
    "    \n",
    "elif rating > 4:\n",
    "        print(\"4 stars\")\n",
    "        \n",
    "elif rating > 3:\n",
    "        print(\"3 stars\")\n",
    "        \n",
    "elif rating < 3:\n",
    "        print(\"do not even eat here\")"
   ]
  },
  {
   "cell_type": "code",
   "execution_count": 81,
   "id": "5255f544-71c9-4d34-954c-4bc9180fc5f6",
   "metadata": {},
   "outputs": [
    {
     "name": "stdin",
     "output_type": "stream",
     "text": [
      "enter number here 10\n"
     ]
    },
    {
     "name": "stdout",
     "output_type": "stream",
     "text": [
      "even number\n"
     ]
    }
   ],
   "source": [
    "n = int(input(\"enter number here\"))\n",
    "\n",
    "if n % 2 == 0:\n",
    "    print (\"even number\")\n",
    "    \n",
    "else:\n",
    "    print (\"odd number\")"
   ]
  },
  {
   "cell_type": "code",
   "execution_count": 36,
   "id": "8628ce77-85e9-4c6b-a1f7-34845aa5c4fb",
   "metadata": {},
   "outputs": [
    {
     "name": "stdin",
     "output_type": "stream",
     "text": [
      "enter a number 18\n"
     ]
    },
    {
     "name": "stdout",
     "output_type": "stream",
     "text": [
      "it is an even number\n",
      "it is also divisible by 3\n"
     ]
    }
   ],
   "source": [
    "a = int(input(\"enter a number\"))\n",
    "if a % 2 == 0:\n",
    "    print(\"it is an even number\")\n",
    "\n",
    "    if a % 3 == 0:\n",
    "        print(\"it is also divisible by 3\")\n",
    "        \n",
    "    else:\n",
    "        print(\"it is an even number not divisible by 3\")\n",
    "\n",
    "else:\n",
    "    print(\"it is an odd number\")"
   ]
  },
  {
   "cell_type": "code",
   "execution_count": 82,
   "id": "f3b284a3-0a53-4031-8bf4-c2c8cb12f964",
   "metadata": {},
   "outputs": [
    {
     "name": "stdout",
     "output_type": "stream",
     "text": [
      "1\n",
      "2\n",
      "3\n",
      "4\n",
      "5\n",
      "6\n",
      "7\n",
      "8\n",
      "9\n",
      "10\n"
     ]
    }
   ],
   "source": [
    "i = 1\n",
    "while i <= 10:\n",
    "    print (i)\n",
    "    i = i + 1"
   ]
  },
  {
   "cell_type": "code",
   "execution_count": 83,
   "id": "aa8f3426-3e7f-4b4d-84c9-0546c1154bfe",
   "metadata": {},
   "outputs": [
    {
     "name": "stdout",
     "output_type": "stream",
     "text": [
      "Sadiq\n",
      "Raja\n",
      "Ben\n",
      "Sam\n",
      "Scott\n"
     ]
    }
   ],
   "source": [
    "names = ['Sadiq', 'Raja', 'Ben', 'Sam', 'Scott']\n",
    "i = 0\n",
    "while i < len(names):\n",
    "    print(names[i])\n",
    "    i = i + 1"
   ]
  },
  {
   "cell_type": "code",
   "execution_count": 1,
   "id": "73d7e254-16cd-4485-afde-2f5809ca4dd0",
   "metadata": {},
   "outputs": [
    {
     "name": "stdout",
     "output_type": "stream",
     "text": [
      "Sadiq\n",
      "Raja\n",
      "Ben\n",
      "Sam\n",
      "Scott\n"
     ]
    }
   ],
   "source": [
    "names = ['Sadiq', 'Raja', 'Ben', 'Sam', 'Scott']\n",
    "i = 0\n",
    "while i < len(names):\n",
    "    print(names[i])\n",
    "    i = i + 1"
   ]
  },
  {
   "cell_type": "code",
   "execution_count": 2,
   "id": "37bf2ae4-c556-4d2d-9a1a-b5fec89e3d4d",
   "metadata": {},
   "outputs": [
    {
     "name": "stdout",
     "output_type": "stream",
     "text": [
      "this is funny\n",
      "this is funny\n",
      "this is funny\n",
      "this is funny\n",
      "this is funny\n",
      "this is funny\n",
      "this is funny\n",
      "this is funny\n",
      "this is funny\n",
      "this is funny\n"
     ]
    }
   ],
   "source": [
    "i = 1 # first assign a number to i\n",
    "while i <= 10: # how many times do you wanna loop? Don't forget the semicolon !!\n",
    "    print (\"this is funny\")\n",
    "    i = i + 1"
   ]
  },
  {
   "cell_type": "code",
   "execution_count": null,
   "id": "8b1c64a8-37f9-46b4-a3db-7dae0db7a57e",
   "metadata": {},
   "outputs": [],
   "source": []
  }
 ],
 "metadata": {
  "kernelspec": {
   "display_name": "Python 3 (ipykernel)",
   "language": "python",
   "name": "python3"
  },
  "language_info": {
   "codemirror_mode": {
    "name": "ipython",
    "version": 3
   },
   "file_extension": ".py",
   "mimetype": "text/x-python",
   "name": "python",
   "nbconvert_exporter": "python",
   "pygments_lexer": "ipython3",
   "version": "3.9.13"
  }
 },
 "nbformat": 4,
 "nbformat_minor": 5
}
