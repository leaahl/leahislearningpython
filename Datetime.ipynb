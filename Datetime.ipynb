{
 "cells": [
  {
   "cell_type": "code",
   "execution_count": 21,
   "id": "2d1cfdef-22bc-493d-ba86-4b2098654bcf",
   "metadata": {},
   "outputs": [],
   "source": [
    "import datetime"
   ]
  },
  {
   "cell_type": "markdown",
   "id": "309cb7bc-3d42-4b45-b30a-55f283d7ea06",
   "metadata": {
    "tags": []
   },
   "source": [
    "#### .datetime()"
   ]
  },
  {
   "cell_type": "code",
   "execution_count": 14,
   "id": "8bed27bb-1870-4639-8e24-8b3a57cc5ffa",
   "metadata": {
    "tags": []
   },
   "outputs": [
    {
     "name": "stdout",
     "output_type": "stream",
     "text": [
      "2022-05-05 00:00:00\n"
     ]
    }
   ],
   "source": [
    "a = datetime.datetime(2022,5,5) # printsn date and time\n",
    "print(a)"
   ]
  },
  {
   "cell_type": "markdown",
   "id": "eb9acb98-607c-44af-95fb-a7348ffbb762",
   "metadata": {},
   "source": [
    "#### .datetime.today()"
   ]
  },
  {
   "cell_type": "code",
   "execution_count": 20,
   "id": "11c5de7f-e3ab-4c03-97cc-a6be242862bf",
   "metadata": {},
   "outputs": [
    {
     "name": "stdout",
     "output_type": "stream",
     "text": [
      "2023-03-04 17:00:10.053604\n"
     ]
    }
   ],
   "source": [
    "tday = datetime.datetime.today() #today's date\n",
    "print(tday)"
   ]
  },
  {
   "cell_type": "code",
   "execution_count": 11,
   "id": "b9dd4401-7e12-4c8a-8995-87b044d4ec0c",
   "metadata": {},
   "outputs": [
    {
     "name": "stdout",
     "output_type": "stream",
     "text": [
      "2022-05-05\n"
     ]
    }
   ],
   "source": [
    "d = datetime.date(2022,5,5) #prints in YYYY-M-DD. Rmb not to include an 0 in front of month and day e.g. 2022,05,05 will be invalid\n",
    "print(d)"
   ]
  },
  {
   "cell_type": "markdown",
   "id": "e48a4970-0f31-4a23-afd4-d6e6df629b9e",
   "metadata": {
    "tags": []
   },
   "source": [
    "#### .datetime.now()"
   ]
  },
  {
   "cell_type": "code",
   "execution_count": 15,
   "id": "91cb2428-3f82-47b4-b6d5-9f7c7da2da04",
   "metadata": {},
   "outputs": [
    {
     "name": "stdout",
     "output_type": "stream",
     "text": [
      "2023-03-04 16:57:32.725267\n"
     ]
    }
   ],
   "source": [
    "a = datetime.datetime.now() # prints date and time now\n",
    "print(a)"
   ]
  },
  {
   "cell_type": "markdown",
   "id": "21509206-846f-43ff-be0c-4a289b745824",
   "metadata": {},
   "source": [
    "#### .timedelta()\n",
    "the difference between dates and times, you can use this to add, subtract etc from a certain date to call a certain date"
   ]
  },
  {
   "cell_type": "code",
   "execution_count": 24,
   "id": "5066829b-b3a9-40b9-9394-c8d4263ed3ad",
   "metadata": {},
   "outputs": [
    {
     "name": "stdout",
     "output_type": "stream",
     "text": [
      "2023-03-11 17:00:10.053604\n"
     ]
    }
   ],
   "source": [
    "tdel = datetime.timedelta(days=7)\n",
    "\n",
    "print(tday + tdel)"
   ]
  },
  {
   "cell_type": "code",
   "execution_count": 25,
   "id": "06bc58b7-a72c-4b2b-a11e-31537c3453b4",
   "metadata": {},
   "outputs": [
    {
     "data": {
      "text/plain": [
       "2023"
      ]
     },
     "execution_count": 25,
     "metadata": {},
     "output_type": "execute_result"
    }
   ],
   "source": [
    "a.year"
   ]
  },
  {
   "cell_type": "code",
   "execution_count": 27,
   "id": "681d8531-8316-45e3-9fea-c99c174fab23",
   "metadata": {},
   "outputs": [
    {
     "data": {
      "text/plain": [
       "4"
      ]
     },
     "execution_count": 27,
     "metadata": {},
     "output_type": "execute_result"
    }
   ],
   "source": [
    "a.day"
   ]
  },
  {
   "cell_type": "code",
   "execution_count": 28,
   "id": "a6445f56-cca5-47d3-8f0e-fec3b88139df",
   "metadata": {},
   "outputs": [
    {
     "data": {
      "text/plain": [
       "3"
      ]
     },
     "execution_count": 28,
     "metadata": {},
     "output_type": "execute_result"
    }
   ],
   "source": [
    "a.month"
   ]
  },
  {
   "cell_type": "code",
   "execution_count": 29,
   "id": "11feaa18-0c15-4447-84e9-a0fab94f3fa5",
   "metadata": {},
   "outputs": [
    {
     "data": {
      "text/plain": [
       "16"
      ]
     },
     "execution_count": 29,
     "metadata": {},
     "output_type": "execute_result"
    }
   ],
   "source": [
    "a.hour"
   ]
  },
  {
   "cell_type": "code",
   "execution_count": null,
   "id": "5d6a122e-6f30-4299-8454-8eeaf2751662",
   "metadata": {},
   "outputs": [],
   "source": []
  }
 ],
 "metadata": {
  "kernelspec": {
   "display_name": "Python 3 (ipykernel)",
   "language": "python",
   "name": "python3"
  },
  "language_info": {
   "codemirror_mode": {
    "name": "ipython",
    "version": 3
   },
   "file_extension": ".py",
   "mimetype": "text/x-python",
   "name": "python",
   "nbconvert_exporter": "python",
   "pygments_lexer": "ipython3",
   "version": "3.9.13"
  }
 },
 "nbformat": 4,
 "nbformat_minor": 5
}
