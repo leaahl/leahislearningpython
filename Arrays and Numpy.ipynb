{
 "cells": [
  {
   "cell_type": "markdown",
   "id": "675ca005-5d37-4a65-89ef-ecf8ca8c7eb7",
   "metadata": {},
   "source": [
    "## Array"
   ]
  },
  {
   "cell_type": "code",
   "execution_count": 3,
   "id": "8cac3695-da42-43ab-92a5-579b6496d4e1",
   "metadata": {},
   "outputs": [
    {
     "ename": "TypeError",
     "evalue": "array() takes at least 1 argument (0 given)",
     "output_type": "error",
     "traceback": [
      "\u001b[0;31m---------------------------------------------------------------------------\u001b[0m",
      "\u001b[0;31mTypeError\u001b[0m                                 Traceback (most recent call last)",
      "\u001b[0;32m/var/folders/62/1yjqp2vn56jdb051vqfk6y2h0000gn/T/ipykernel_16400/3088980744.py\u001b[0m in \u001b[0;36m<module>\u001b[0;34m\u001b[0m\n\u001b[1;32m      1\u001b[0m \u001b[0;32mimport\u001b[0m \u001b[0marray\u001b[0m \u001b[0;32mas\u001b[0m \u001b[0marr\u001b[0m\u001b[0;34m\u001b[0m\u001b[0;34m\u001b[0m\u001b[0m\n\u001b[0;32m----> 2\u001b[0;31m \u001b[0marr\u001b[0m\u001b[0;34m.\u001b[0m\u001b[0marray\u001b[0m\u001b[0;34m(\u001b[0m\u001b[0;34m)\u001b[0m\u001b[0;34m\u001b[0m\u001b[0;34m\u001b[0m\u001b[0m\n\u001b[0m",
      "\u001b[0;31mTypeError\u001b[0m: array() takes at least 1 argument (0 given)"
     ]
    }
   ],
   "source": [
    "import array as arr # this is how you would import an array, it shows error beause you have to define your array\n",
    "arr.array()"
   ]
  },
  {
   "cell_type": "code",
   "execution_count": 5,
   "id": "e387e340-4a22-4ea5-8f85-b8483107695b",
   "metadata": {},
   "outputs": [
    {
     "name": "stdout",
     "output_type": "stream",
     "text": [
      "array('i', [2, 52, 23, 199])\n"
     ]
    }
   ],
   "source": [
    "from array import * # you can replace the star with the functions you want to work with but to keep it simple use * to import all functions\n",
    "\n",
    "vals = array ('i', [2,52,23,199]) # we are using i here as we're gonna be working with both +ve & -ve int\n",
    "print (vals)"
   ]
  },
  {
   "cell_type": "code",
   "execution_count": 8,
   "id": "2f5c6720-d427-41a9-8f07-ceed4fb1a56a",
   "metadata": {},
   "outputs": [
    {
     "name": "stdout",
     "output_type": "stream",
     "text": [
      "array('i', [10, 23, 40, 1])\n"
     ]
    }
   ],
   "source": [
    "from array import *\n",
    "\n",
    "val = array ('i', [1,40,23,10]) # this is a tuple\n",
    "val.reverse() # reverses the sequence in which it appears\n",
    "print (val)"
   ]
  },
  {
   "cell_type": "code",
   "execution_count": 11,
   "id": "26ec0179-dbb2-453c-bbf2-2da7f2bdfa39",
   "metadata": {},
   "outputs": [
    {
     "name": "stdout",
     "output_type": "stream",
     "text": [
      "10\n"
     ]
    }
   ],
   "source": [
    "from array import * \n",
    "print (val[0]) # this prints the first value in the sequence, this is called indexing"
   ]
  },
  {
   "cell_type": "markdown",
   "id": "d1b0aeb2-86ad-4f4b-8595-33ca210e6090",
   "metadata": {},
   "source": [
    "#### what should we do if we want to print all the values? Use a for loop "
   ]
  },
  {
   "cell_type": "code",
   "execution_count": 18,
   "id": "d96b31a7-8e4a-4550-902e-a7417da3ffde",
   "metadata": {},
   "outputs": [
    {
     "name": "stdout",
     "output_type": "stream",
     "text": [
      "10\n",
      "23\n",
      "40\n",
      "1\n"
     ]
    }
   ],
   "source": [
    "for i in range(4): # we use 4 here because there are only 4 values in the array\n",
    "    print (val[i]) #remeb to take note that the i here has to be in square brackets []"
   ]
  },
  {
   "cell_type": "code",
   "execution_count": 20,
   "id": "bb17061b-95b8-454e-858f-ae4d5d714f2b",
   "metadata": {},
   "outputs": [
    {
     "name": "stdout",
     "output_type": "stream",
     "text": [
      "2\n",
      "52\n",
      "23\n",
      "199\n"
     ]
    }
   ],
   "source": [
    "for i in range (4): # lets do it one more time\n",
    "    print (vals[i])"
   ]
  },
  {
   "cell_type": "markdown",
   "id": "7e675830-d19b-475c-ba03-cf59a5c676d3",
   "metadata": {},
   "source": [
    "#### what if you don't know how many numbers are in the array? use len"
   ]
  },
  {
   "cell_type": "code",
   "execution_count": 35,
   "id": "a18d7f61-acdc-4cd2-9997-74e7703d85f2",
   "metadata": {},
   "outputs": [
    {
     "name": "stdout",
     "output_type": "stream",
     "text": [
      "4\n"
     ]
    }
   ],
   "source": [
    "print (len(vals))"
   ]
  },
  {
   "cell_type": "code",
   "execution_count": 42,
   "id": "21a951ec-ff99-42ab-8182-2f94bed88a94",
   "metadata": {},
   "outputs": [
    {
     "name": "stdout",
     "output_type": "stream",
     "text": [
      "2\n",
      "52\n",
      "23\n",
      "199\n"
     ]
    }
   ],
   "source": [
    "for i in range (len(vals)): #it's taking the range in the length of vals\n",
    "    print (vals[i])"
   ]
  },
  {
   "cell_type": "code",
   "execution_count": 41,
   "id": "093d302e-f19e-42a2-8264-2a89887fcd62",
   "metadata": {},
   "outputs": [
    {
     "name": "stdout",
     "output_type": "stream",
     "text": [
      "2\n",
      "52\n",
      "23\n",
      "199\n"
     ]
    }
   ],
   "source": [
    "for i in vals: # i can also do it like this instead of specifying the range\n",
    "    print (i)"
   ]
  },
  {
   "cell_type": "markdown",
   "id": "fffa9d06-5b19-41ac-b2ec-f4a03d833576",
   "metadata": {},
   "source": [
    "#### what if you don't know the type of the array but wanna create similar one? whether int, float etcetc."
   ]
  },
  {
   "cell_type": "code",
   "execution_count": 9,
   "id": "116cbb40-d043-4bea-ac57-d6a63ff02e51",
   "metadata": {},
   "outputs": [
    {
     "name": "stdout",
     "output_type": "stream",
     "text": [
      "14\n",
      "2\n",
      "1\n",
      "3\n"
     ]
    }
   ],
   "source": [
    "from array import *\n",
    "vals = array('i', [14,2,1,3])\n",
    "\n",
    "newarr = array(vals.typecode, (a for a in vals))\n",
    "for i in newarr:\n",
    "    print(i)"
   ]
  },
  {
   "cell_type": "markdown",
   "id": "7bab4e24-9e10-439d-906a-eb51619d6ae8",
   "metadata": {},
   "source": [
    "#### circling back to indexing"
   ]
  },
  {
   "cell_type": "code",
   "execution_count": 27,
   "id": "5daee8cb-8a4b-4adc-a68e-c61297199535",
   "metadata": {},
   "outputs": [
    {
     "name": "stdout",
     "output_type": "stream",
     "text": [
      "2\n",
      "52\n",
      "23\n",
      "199\n"
     ]
    }
   ],
   "source": [
    "vals = array ('i', [2,52,23,199])\n",
    "print (vals[0])\n",
    "print (vals[1])\n",
    "print (vals[2])\n",
    "print (vals[3])"
   ]
  },
  {
   "cell_type": "code",
   "execution_count": 43,
   "id": "1f18156a-022d-4143-a48d-f9958bbe6ea4",
   "metadata": {},
   "outputs": [
    {
     "name": "stdout",
     "output_type": "stream",
     "text": [
      "199\n",
      "23\n",
      "52\n",
      "2\n"
     ]
    }
   ],
   "source": [
    "vals = array ('i', [2,52,23,199])\n",
    "print (vals[-1]) #gets the last number\n",
    "print (vals[-2])\n",
    "print (vals[-3])\n",
    "print (vals[-4]) # gets the first number"
   ]
  },
  {
   "cell_type": "markdown",
   "id": "5afc91cb-b2ce-4ae0-b711-74ef15c07919",
   "metadata": {},
   "source": [
    "### Array inputs from the user\n",
    "* first, learn to create an empty array "
   ]
  },
  {
   "cell_type": "code",
   "execution_count": 47,
   "id": "c0fe8ff6-2a8e-4416-9892-b3c46f474cfc",
   "metadata": {},
   "outputs": [],
   "source": [
    "from array import * \n",
    "\n",
    "new = array(\"i\", [])"
   ]
  },
  {
   "cell_type": "code",
   "execution_count": 48,
   "id": "6ab62026-b2b7-42e0-988e-f647477d0909",
   "metadata": {},
   "outputs": [
    {
     "name": "stdin",
     "output_type": "stream",
     "text": [
      "Enter the length of the array 3\n",
      "Enter the next number 2\n",
      "Enter the next number 14\n",
      "Enter the next number 21\n"
     ]
    },
    {
     "name": "stdout",
     "output_type": "stream",
     "text": [
      "array('i', [2, 14, 21])\n"
     ]
    }
   ],
   "source": [
    "n = int (input(\"Enter the length of the array\"))  # the first step is to ask what's the length of the array they need\n",
    "\n",
    "for i in range(n):\n",
    "    x = int(input(\"Enter the next number\"))\n",
    "    new.append(x)\n",
    "    \n",
    "print (new)"
   ]
  },
  {
   "cell_type": "code",
   "execution_count": 12,
   "id": "222f9240-2a78-472b-b29d-c2fbaa1f4051",
   "metadata": {},
   "outputs": [
    {
     "name": "stdin",
     "output_type": "stream",
     "text": [
      "input length of array:  3\n",
      "enter the next number 1\n",
      "enter the next number 4\n",
      "enter the next number 2\n"
     ]
    },
    {
     "name": "stdout",
     "output_type": "stream",
     "text": [
      "array('i', [1, 4, 2])\n"
     ]
    }
   ],
   "source": [
    "from array import *\n",
    "new = array('i', [])\n",
    "a = int(input(\"input length of array: \"))\n",
    "\n",
    "for i in range(a):\n",
    "    b = int(input(\"enter the next number\"))\n",
    "    new.append(b)\n",
    "    \n",
    "print(new)\n"
   ]
  },
  {
   "cell_type": "code",
   "execution_count": null,
   "id": "53865c68-daae-42b6-8e8a-2127bf7804d1",
   "metadata": {},
   "outputs": [],
   "source": []
  },
  {
   "cell_type": "markdown",
   "id": "d49d92c7-142a-493d-95a3-4d5bedd63c9e",
   "metadata": {},
   "source": [
    "### Searching for the index in the array"
   ]
  },
  {
   "cell_type": "code",
   "execution_count": 49,
   "id": "1b38598c-252b-49d9-8413-400a6a25f659",
   "metadata": {},
   "outputs": [
    {
     "name": "stdin",
     "output_type": "stream",
     "text": [
      "enter search value here to find out the index 14\n"
     ]
    },
    {
     "name": "stdout",
     "output_type": "stream",
     "text": [
      "1\n"
     ]
    }
   ],
   "source": [
    "unknown = int(input(\"enter search value here to find out the index\"))\n",
    "\n",
    "k = 0\n",
    "for e in new: # have to assign e instead of i like previously because it's looking for a value in the array, unlike previously when it's taking the range from 0\n",
    "    if e == unknown: # checking if e (a value in the array) equals to the value the user input \n",
    "        print (k) # print k because you're looking through the loop \n",
    "        break\n",
    "        \n",
    "    k = k + 1"
   ]
  },
  {
   "cell_type": "markdown",
   "id": "e350108b-ff5a-4406-8154-c449ad1530a0",
   "metadata": {},
   "source": [
    "## Numpys "
   ]
  },
  {
   "cell_type": "code",
   "execution_count": 14,
   "id": "ae59c7f0-8869-4845-87f1-871d7293f379",
   "metadata": {},
   "outputs": [],
   "source": [
    "from numpy import *"
   ]
  },
  {
   "cell_type": "code",
   "execution_count": 30,
   "id": "68d6bf77-9fef-42d5-97bd-3dd34334386e",
   "metadata": {},
   "outputs": [
    {
     "name": "stdout",
     "output_type": "stream",
     "text": [
      "[15  2  3]\n",
      "[14  3  1]\n"
     ]
    }
   ],
   "source": [
    "x = array([15,2,3])\n",
    "y = array([14,3,1])\n",
    "print(x)\n",
    "print(y)"
   ]
  },
  {
   "cell_type": "code",
   "execution_count": 23,
   "id": "ad99a257-06a3-408a-8dc1-3e3d3bcb5ee8",
   "metadata": {},
   "outputs": [
    {
     "name": "stdout",
     "output_type": "stream",
     "text": [
      "[15  2  3 14  3  1]\n"
     ]
    }
   ],
   "source": [
    "x = array([15,2,3])\n",
    "y = array([14,3,1])\n",
    "\n",
    "print(concatenate([x,y]))"
   ]
  },
  {
   "cell_type": "code",
   "execution_count": 29,
   "id": "848212ff-f721-4708-99ec-c8039b152f05",
   "metadata": {},
   "outputs": [
    {
     "name": "stdout",
     "output_type": "stream",
     "text": [
      "[[14  3  1]\n",
      " [12  4  1]]\n"
     ]
    }
   ],
   "source": [
    "from numpy import * \n",
    "arr = array([\n",
    "            [14,3,1], #do this as a 'shortcut' from point 1\n",
    "            [12,4,1]\n",
    "])\n",
    "\n",
    "print(arr)"
   ]
  },
  {
   "cell_type": "code",
   "execution_count": 33,
   "id": "8872d2be-baab-4f65-bed7-03443ef9babf",
   "metadata": {},
   "outputs": [
    {
     "name": "stdout",
     "output_type": "stream",
     "text": [
      "2\n"
     ]
    }
   ],
   "source": [
    "from numpy import *\n",
    "xyz = array([\n",
    "            [4,4,1],\n",
    "            [3,1,2],\n",
    "            [10,12,1],\n",
    "            [10,12,2]\n",
    "])\n",
    "\n",
    "print(xyz.ndim) #ndim is to find out how many dimensions there are"
   ]
  },
  {
   "cell_type": "code",
   "execution_count": 34,
   "id": "856fe62f-d446-4485-80de-4e4537b013fe",
   "metadata": {},
   "outputs": [
    {
     "name": "stdout",
     "output_type": "stream",
     "text": [
      "(3, 4)\n"
     ]
    }
   ],
   "source": [
    "abc = array([\n",
    "            [123,1,2,3],\n",
    "            [123,4,2,3],\n",
    "            [321,1,2,5]\n",
    "])\n",
    "\n",
    "print(abc.shape) # returns the number of columns & rows"
   ]
  },
  {
   "cell_type": "code",
   "execution_count": 36,
   "id": "7c5b077b-0192-4575-89ea-64d20b81e0f2",
   "metadata": {},
   "outputs": [
    {
     "name": "stdout",
     "output_type": "stream",
     "text": [
      "12\n"
     ]
    }
   ],
   "source": [
    "abc = array([\n",
    "            [123,1,2,3],\n",
    "            [123,4,2,3],\n",
    "            [321,1,2,5]\n",
    "])\n",
    "\n",
    "print(abc.size) # returns the number of values"
   ]
  },
  {
   "cell_type": "markdown",
   "id": "88fbc391-45dd-4c64-9b2e-90c5f59d6fef",
   "metadata": {},
   "source": [
    "#### so this is currently 2D(2 dimensional, let's convert it to 1D using flatten)"
   ]
  },
  {
   "cell_type": "code",
   "execution_count": 38,
   "id": "c1992d83-d471-484a-bba4-7db06ec3c9d3",
   "metadata": {},
   "outputs": [
    {
     "name": "stdout",
     "output_type": "stream",
     "text": [
      "[123   1   2   3 123   4   2   3 321   1   2   5]\n"
     ]
    }
   ],
   "source": [
    "abc = array([\n",
    "            [123,1,2,3],\n",
    "            [123,4,2,3],\n",
    "            [321,1,2,5]\n",
    "])\n",
    "\n",
    "abc2 = abc.flatten()\n",
    "\n",
    "print(abc2)"
   ]
  },
  {
   "cell_type": "markdown",
   "id": "8f71eb76-8a42-46a4-bed1-898d74944c90",
   "metadata": {},
   "source": [
    "#### let's convert this 1D array into a 2D and 3D array\n",
    "let's add more values, so that the total values is 12, it's easier to work with 3D arrays with 12 values \n",
    "\n",
    "2D array:\n",
    "the syntax to add more is example: x1.reshape(2,4) 2 is the rows, 4 is the columns"
   ]
  },
  {
   "cell_type": "code",
   "execution_count": 43,
   "id": "8e4863e7-b423-4313-aea0-e0d47164b9c1",
   "metadata": {},
   "outputs": [
    {
     "name": "stdout",
     "output_type": "stream",
     "text": [
      "[[1 2 3]\n",
      " [4 5 6]\n",
      " [1 2 3]\n",
      " [4 5 6]]\n"
     ]
    }
   ],
   "source": [
    "x1 = array([\n",
    "            [1,2,3,4,5,6],\n",
    "            [1,2,3,4,5,6],\n",
    "            \n",
    "])\n",
    "\n",
    "x2 = x1.flatten()\n",
    "\n",
    "x3 = x2.reshape(4,3) # 4 rows and 3 columns. This is a 2D array\n",
    "\n",
    "print(x3)"
   ]
  },
  {
   "cell_type": "code",
   "execution_count": 45,
   "id": "f6075114-1e2a-410f-9ad2-aa46c76667ff",
   "metadata": {},
   "outputs": [
    {
     "name": "stdout",
     "output_type": "stream",
     "text": [
      "[[[1 2 3]\n",
      "  [4 5 6]]\n",
      "\n",
      " [[1 2 3]\n",
      "  [4 5 6]]]\n"
     ]
    }
   ],
   "source": [
    "x1 = array([\n",
    "            [1,2,3,4,5,6],\n",
    "            [1,2,3,4,5,6],\n",
    "            \n",
    "])\n",
    "\n",
    "x2 = x1.flatten()\n",
    "\n",
    "x3 = x2.reshape(2,2,3) #we have 2 total arrays in each dimension, 2 total dimensions, 3 vlaues in each array\n",
    "\n",
    "print(x3)"
   ]
  },
  {
   "cell_type": "markdown",
   "id": "26c34434-b2f2-4749-b8d0-a8e5f410d803",
   "metadata": {
    "tags": []
   },
   "source": [
    "#### Using matrix function to create a 2D array:\n",
    "Instead of creating 2D array in the ways above, we can use the matrix function.\n",
    "This allows more ways to work with the array "
   ]
  },
  {
   "cell_type": "markdown",
   "id": "097faa7d-ca2b-4862-879f-b0fd4a11d148",
   "metadata": {},
   "source": [
    "let's use the old method first to recap:"
   ]
  },
  {
   "cell_type": "code",
   "execution_count": 50,
   "id": "b55a4ec6-7524-4a2b-a1fe-b92964ae7055",
   "metadata": {},
   "outputs": [
    {
     "name": "stdout",
     "output_type": "stream",
     "text": [
      "[[1 2 3]\n",
      " [4 5 6]]\n"
     ]
    }
   ],
   "source": [
    "arr = array ([\n",
    "            [1,2,3],\n",
    "            [4,5,6]\n",
    "])\n",
    "\n",
    "print(arr)"
   ]
  },
  {
   "cell_type": "markdown",
   "id": "d814cb59-e051-4147-8a31-dab7d2218ec6",
   "metadata": {},
   "source": [
    "now, let's use the matrix"
   ]
  },
  {
   "cell_type": "code",
   "execution_count": 49,
   "id": "dd829091-014f-4de1-b3c9-477bebe2b622",
   "metadata": {},
   "outputs": [
    {
     "name": "stdout",
     "output_type": "stream",
     "text": [
      "[[1 2 3]\n",
      " [4 5 6]]\n"
     ]
    }
   ],
   "source": [
    "m = matrix ('1,2,3 ; 4,5,6 ') #take note its not a colon, its a semi colon;\n",
    "print(m)"
   ]
  },
  {
   "cell_type": "markdown",
   "id": "f31940d6-1fa4-49b3-8714-63a52eae8545",
   "metadata": {},
   "source": [
    "tadah! It's the same output!"
   ]
  },
  {
   "cell_type": "markdown",
   "id": "754405e3-dc72-4f12-9867-8665043126d0",
   "metadata": {},
   "source": [
    "with this you can also do pretty cool stuff like just getting the diagonal values. First lets convert to 3 rows and 3 columns so we can take the diagonal values"
   ]
  },
  {
   "cell_type": "code",
   "execution_count": 51,
   "id": "0f8566d3-f925-464e-92bb-21abed8ce1e7",
   "metadata": {},
   "outputs": [
    {
     "name": "stdout",
     "output_type": "stream",
     "text": [
      "[[1 2 3]\n",
      " [4 5 6]\n",
      " [1 6 7]]\n"
     ]
    }
   ],
   "source": [
    "m = matrix ('1,2,3 ; 4,5,6 ; 1,6,7 ')\n",
    "print(m)"
   ]
  },
  {
   "cell_type": "code",
   "execution_count": 53,
   "id": "ad86b7ec-88b5-4456-b9be-0f637e76d574",
   "metadata": {},
   "outputs": [
    {
     "name": "stdout",
     "output_type": "stream",
     "text": [
      "[1 5 7]\n"
     ]
    }
   ],
   "source": [
    "print(diagonal(m)) "
   ]
  },
  {
   "cell_type": "code",
   "execution_count": 55,
   "id": "0355d52f-f57a-472a-a65c-aa86c9ae85fa",
   "metadata": {},
   "outputs": [
    {
     "name": "stdout",
     "output_type": "stream",
     "text": [
      "1\n"
     ]
    }
   ],
   "source": [
    "print(m.min()) #takes the min value"
   ]
  },
  {
   "cell_type": "markdown",
   "id": "afee0d56-4f07-4d19-b1e1-68a653691515",
   "metadata": {},
   "source": [
    "Let's try this with an example"
   ]
  },
  {
   "cell_type": "code",
   "execution_count": 75,
   "id": "2791a57d-147b-4a90-a2f4-698caebb4d8f",
   "metadata": {},
   "outputs": [
    {
     "name": "stdout",
     "output_type": "stream",
     "text": [
      "[[45 60 70]\n",
      " [50 80 95]\n",
      " [59 20 91]]\n"
     ]
    }
   ],
   "source": [
    "marks = array([\n",
    "                [45,60,70],\n",
    "                [50,80,95],\n",
    "                [59,20,91],\n",
    "    \n",
    "        \n",
    "])\n",
    "\n",
    "print(marks)"
   ]
  },
  {
   "cell_type": "code",
   "execution_count": 76,
   "id": "89697adb-29a8-41c8-82d4-8c8bd522b0d5",
   "metadata": {},
   "outputs": [
    {
     "name": "stdout",
     "output_type": "stream",
     "text": [
      "Top scorer 95\n",
      "Lowest mark 20\n",
      "Class average 63.333333333333336\n"
     ]
    }
   ],
   "source": [
    "print(\"Top scorer\", marks.max())\n",
    "print(\"Lowest mark\", marks.min())\n",
    "print(\"Class average\", marks.mean())"
   ]
  },
  {
   "cell_type": "code",
   "execution_count": 83,
   "id": "1626bbec-08c2-46fc-86b0-25a37b81dc41",
   "metadata": {},
   "outputs": [
    {
     "data": {
      "text/plain": [
       "array([[50, 80, 95],\n",
       "       [59, 20, 91]])"
      ]
     },
     "execution_count": 83,
     "metadata": {},
     "output_type": "execute_result"
    }
   ],
   "source": [
    "marks[1:3]"
   ]
  },
  {
   "cell_type": "markdown",
   "id": "acdc6def-a306-4c6a-b214-74102dc314fa",
   "metadata": {},
   "source": [
    "marks[start row index:end row index], [start column index]:[end column index]"
   ]
  },
  {
   "cell_type": "code",
   "execution_count": 95,
   "id": "1a73020c-f62a-47d4-ab0e-590363c78fdc",
   "metadata": {},
   "outputs": [
    {
     "name": "stdout",
     "output_type": "stream",
     "text": [
      "First row [[45 60 70]]\n",
      "Second row [[50 80 95]]\n",
      "Third row [[59 20 91]]\n"
     ]
    }
   ],
   "source": [
    "print(\"First row\", marks[0:1])\n",
    "print(\"Second row\", marks[1:2])\n",
    "print(\"Third row\", marks[2:3])"
   ]
  },
  {
   "cell_type": "code",
   "execution_count": 109,
   "id": "6585bc07-cfec-4444-b72a-e2dfce95719a",
   "metadata": {
    "tags": []
   },
   "outputs": [
    {
     "data": {
      "text/plain": [
       "array([[60, 70]])"
      ]
     },
     "execution_count": 109,
     "metadata": {},
     "output_type": "execute_result"
    }
   ],
   "source": [
    "marks[0:1, 1:3] # I don't understand this concept"
   ]
  },
  {
   "cell_type": "code",
   "execution_count": 111,
   "id": "faecf264-a69a-44a1-a58d-abeae7912df6",
   "metadata": {
    "tags": []
   },
   "outputs": [
    {
     "name": "stdout",
     "output_type": "stream",
     "text": [
      "[[10 20 30]\n",
      " [40 50 60]\n",
      " [70 80 90]\n",
      " [91 92 93]]\n"
     ]
    }
   ],
   "source": [
    "eng = [10,20,30]\n",
    "math = [40,50,60]\n",
    "sci = [70,80,90]\n",
    "chi = [91,92,93]\n",
    "\n",
    "score = array([eng, math, sci, chi])\n",
    "print(score)"
   ]
  },
  {
   "cell_type": "code",
   "execution_count": 115,
   "id": "57bdc3fe-6f1e-4afe-b87c-8dea21fa1549",
   "metadata": {},
   "outputs": [
    {
     "data": {
      "text/plain": [
       "array([[50, 60],\n",
       "       [80, 90]])"
      ]
     },
     "execution_count": 115,
     "metadata": {},
     "output_type": "execute_result"
    }
   ],
   "source": [
    "score[1:3, 1:3] #second and third row, second and third column"
   ]
  },
  {
   "cell_type": "code",
   "execution_count": 116,
   "id": "43cc8b82-5b67-494e-89f1-65ecc57b62a8",
   "metadata": {},
   "outputs": [
    {
     "data": {
      "text/plain": [
       "array([[50, 60]])"
      ]
     },
     "execution_count": 116,
     "metadata": {},
     "output_type": "execute_result"
    }
   ],
   "source": [
    "score[1:2, 1:3] #second row only and second , second and third column"
   ]
  },
  {
   "cell_type": "code",
   "execution_count": 117,
   "id": "dc92ec2a-0343-4354-b9f8-87a8a2cfe2b9",
   "metadata": {},
   "outputs": [
    {
     "data": {
      "text/plain": [
       "array([[50],\n",
       "       [80]])"
      ]
     },
     "execution_count": 117,
     "metadata": {},
     "output_type": "execute_result"
    }
   ],
   "source": [
    "score[1:3, 1:2] # second and third row,  second row only"
   ]
  },
  {
   "cell_type": "code",
   "execution_count": 119,
   "id": "eec29e21-2045-497b-b20b-5d68e418f8b1",
   "metadata": {},
   "outputs": [
    {
     "data": {
      "text/plain": [
       "130"
      ]
     },
     "execution_count": 119,
     "metadata": {},
     "output_type": "execute_result"
    }
   ],
   "source": [
    "score[1:3, 1:2].sum()"
   ]
  },
  {
   "cell_type": "code",
   "execution_count": 122,
   "id": "25aee1c4-41c3-4768-a154-e30833100d4f",
   "metadata": {},
   "outputs": [
    {
     "data": {
      "text/plain": [
       "726"
      ]
     },
     "execution_count": 122,
     "metadata": {},
     "output_type": "execute_result"
    }
   ],
   "source": [
    "score.sum()"
   ]
  },
  {
   "cell_type": "code",
   "execution_count": 123,
   "id": "c85020da-5c37-4a51-b48d-d0b73376e29a",
   "metadata": {},
   "outputs": [
    {
     "data": {
      "text/plain": [
       "array([211, 242, 273])"
      ]
     },
     "execution_count": 123,
     "metadata": {},
     "output_type": "execute_result"
    }
   ],
   "source": [
    "score.sum(axis=0) #adds the columns (10+40+70+91)"
   ]
  },
  {
   "cell_type": "code",
   "execution_count": 124,
   "id": "d330b0dc-b6ee-42d7-8623-2e77d5a2131c",
   "metadata": {},
   "outputs": [
    {
     "data": {
      "text/plain": [
       "array([ 60, 150, 240, 276])"
      ]
     },
     "execution_count": 124,
     "metadata": {},
     "output_type": "execute_result"
    }
   ],
   "source": [
    "score.sum(axis=1) #adds the rows"
   ]
  },
  {
   "cell_type": "code",
   "execution_count": null,
   "id": "9dfd36d8-c8b8-4bc2-ad8e-87a3aba003a7",
   "metadata": {},
   "outputs": [],
   "source": []
  }
 ],
 "metadata": {
  "kernelspec": {
   "display_name": "Python 3 (ipykernel)",
   "language": "python",
   "name": "python3"
  },
  "language_info": {
   "codemirror_mode": {
    "name": "ipython",
    "version": 3
   },
   "file_extension": ".py",
   "mimetype": "text/x-python",
   "name": "python",
   "nbconvert_exporter": "python",
   "pygments_lexer": "ipython3",
   "version": "3.9.13"
  }
 },
 "nbformat": 4,
 "nbformat_minor": 5
}
