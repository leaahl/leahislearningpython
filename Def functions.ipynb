{
 "cells": [
  {
   "cell_type": "code",
   "execution_count": 1,
   "id": "0bc89080-2683-42c6-8b2e-91fda9af32fa",
   "metadata": {},
   "outputs": [
    {
     "data": {
      "text/plain": [
       "57"
      ]
     },
     "execution_count": 1,
     "metadata": {},
     "output_type": "execute_result"
    }
   ],
   "source": [
    "23+34"
   ]
  },
  {
   "cell_type": "markdown",
   "id": "e60670f1-ea1b-44ff-b11b-e01256b9db60",
   "metadata": {},
   "source": [
    "10+10"
   ]
  },
  {
   "cell_type": "code",
   "execution_count": null,
   "id": "83dea07f-6d6a-4c5d-aa31-7554e2dbb8ed",
   "metadata": {},
   "outputs": [],
   "source": []
  },
  {
   "cell_type": "code",
   "execution_count": 11,
   "id": "e79b4ebe-25a1-44e7-bc87-cb34c869e3e9",
   "metadata": {},
   "outputs": [
    {
     "name": "stdout",
     "output_type": "stream",
     "text": [
      "this is ridiculous\n"
     ]
    }
   ],
   "source": [
    "print (\"this is ridiculous\")"
   ]
  },
  {
   "cell_type": "markdown",
   "id": "80bd6b2b-4601-4589-9de7-56f3bfc47a7c",
   "metadata": {},
   "source": [
    "markdow"
   ]
  },
  {
   "cell_type": "markdown",
   "id": "1f533332-d80f-4663-8d84-0417aebe1ae8",
   "metadata": {},
   "source": [
    "# headline"
   ]
  },
  {
   "cell_type": "markdown",
   "id": "b1451cdb-f38f-495d-81d4-6ce91c9d1faf",
   "metadata": {},
   "source": [
    "## headline"
   ]
  },
  {
   "cell_type": "code",
   "execution_count": 21,
   "id": "7125474c-6cfe-4372-95ce-37c75f3612c2",
   "metadata": {},
   "outputs": [
    {
     "data": {
      "text/plain": [
       "30"
      ]
     },
     "execution_count": 21,
     "metadata": {},
     "output_type": "execute_result"
    }
   ],
   "source": [
    "30"
   ]
  },
  {
   "cell_type": "markdown",
   "id": "08e6f2b3-0e55-452b-a0bd-e076f77e21b9",
   "metadata": {},
   "source": [
    "## Assignment"
   ]
  },
  {
   "cell_type": "code",
   "execution_count": 23,
   "id": "2bbe61c1-3262-40ad-a239-5a9cc238c0ca",
   "metadata": {},
   "outputs": [
    {
     "name": "stdout",
     "output_type": "stream",
     "text": [
      "leah-ho\n"
     ]
    }
   ],
   "source": [
    "print ('leah', 'ho', sep='-')"
   ]
  },
  {
   "cell_type": "markdown",
   "id": "7808e32a-be08-4b79-a41a-99ffd1ee019b",
   "metadata": {},
   "source": [
    "# Python basic Data Types"
   ]
  },
  {
   "cell_type": "code",
   "execution_count": 25,
   "id": "a3fcbde3-3293-4232-990f-e29fd9c392b6",
   "metadata": {},
   "outputs": [
    {
     "name": "stdin",
     "output_type": "stream",
     "text": [
      "value saved last month 12000\n"
     ]
    }
   ],
   "source": [
    "x = input('value saved last month')"
   ]
  },
  {
   "cell_type": "code",
   "execution_count": 26,
   "id": "d74f7015-1e38-4558-9fbe-a9026491d05d",
   "metadata": {},
   "outputs": [
    {
     "name": "stdin",
     "output_type": "stream",
     "text": [
      "value saved last month 123123\n"
     ]
    }
   ],
   "source": [
    "y = input ('value saved last month')"
   ]
  },
  {
   "cell_type": "code",
   "execution_count": 31,
   "id": "c52c9365-b705-4083-a912-b6dfedd4a672",
   "metadata": {},
   "outputs": [
    {
     "name": "stdin",
     "output_type": "stream",
     "text": [
      "value saved last month 123124\n"
     ]
    }
   ],
   "source": [
    "y = input ('value saved last month')"
   ]
  },
  {
   "cell_type": "code",
   "execution_count": 28,
   "id": "c8253aee-a129-4e24-b4f1-78fb397abd6c",
   "metadata": {},
   "outputs": [],
   "source": [
    "x = pow (4,3)"
   ]
  },
  {
   "cell_type": "code",
   "execution_count": 30,
   "id": "bfdee0fe-8879-4d95-ac19-309b3e73b3bc",
   "metadata": {},
   "outputs": [
    {
     "data": {
      "text/plain": [
       "64"
      ]
     },
     "execution_count": 30,
     "metadata": {},
     "output_type": "execute_result"
    }
   ],
   "source": [
    "pow (4,3)"
   ]
  },
  {
   "cell_type": "code",
   "execution_count": null,
   "id": "56e401f5-737c-43e7-b343-68fe66d65cdf",
   "metadata": {},
   "outputs": [],
   "source": [
    "pow (4,3)"
   ]
  },
  {
   "cell_type": "code",
   "execution_count": null,
   "id": "813a57f8-db43-4baf-9982-e02a3aa14a5f",
   "metadata": {},
   "outputs": [],
   "source": []
  },
  {
   "cell_type": "code",
   "execution_count": 34,
   "id": "a5c31ae0-cbd1-429a-a325-cd2546c99eab",
   "metadata": {},
   "outputs": [],
   "source": [
    "tpl = 2,4,6,8,True,'python'"
   ]
  },
  {
   "cell_type": "code",
   "execution_count": 35,
   "id": "1ba070f0-35b9-4079-a8e3-21480e36a45f",
   "metadata": {},
   "outputs": [
    {
     "name": "stdout",
     "output_type": "stream",
     "text": [
      "['__add__', '__class__', '__class_getitem__', '__contains__', '__delattr__', '__dir__', '__doc__', '__eq__', '__format__', '__ge__', '__getattribute__', '__getitem__', '__getnewargs__', '__gt__', '__hash__', '__init__', '__init_subclass__', '__iter__', '__le__', '__len__', '__lt__', '__mul__', '__ne__', '__new__', '__reduce__', '__reduce_ex__', '__repr__', '__rmul__', '__setattr__', '__sizeof__', '__str__', '__subclasshook__', 'count', 'index']\n"
     ]
    }
   ],
   "source": [
    "print(dir(tpl))"
   ]
  },
  {
   "cell_type": "code",
   "execution_count": 36,
   "id": "a05ec935-cfcc-4a69-a48b-c73e0c10507a",
   "metadata": {},
   "outputs": [],
   "source": [
    "lst = [2,4,6,8,True,'python']"
   ]
  },
  {
   "cell_type": "code",
   "execution_count": 38,
   "id": "7176fc18-5ec8-46c7-84ef-3bcee408aebf",
   "metadata": {},
   "outputs": [
    {
     "name": "stdout",
     "output_type": "stream",
     "text": [
      "['__add__', '__class__', '__class_getitem__', '__contains__', '__delattr__', '__delitem__', '__dir__', '__doc__', '__eq__', '__format__', '__ge__', '__getattribute__', '__getitem__', '__gt__', '__hash__', '__iadd__', '__imul__', '__init__', '__init_subclass__', '__iter__', '__le__', '__len__', '__lt__', '__mul__', '__ne__', '__new__', '__reduce__', '__reduce_ex__', '__repr__', '__reversed__', '__rmul__', '__setattr__', '__setitem__', '__sizeof__', '__str__', '__subclasshook__', 'append', 'clear', 'copy', 'count', 'extend', 'index', 'insert', 'pop', 'remove', 'reverse', 'sort']\n"
     ]
    }
   ],
   "source": [
    "print(dir(lst))"
   ]
  },
  {
   "cell_type": "code",
   "execution_count": 42,
   "id": "f89e69e2-9bf4-4d9a-bad9-9f3e38af4447",
   "metadata": {},
   "outputs": [
    {
     "data": {
      "text/plain": [
       "8"
      ]
     },
     "execution_count": 42,
     "metadata": {},
     "output_type": "execute_result"
    }
   ],
   "source": [
    "lst[3]"
   ]
  },
  {
   "cell_type": "code",
   "execution_count": 50,
   "id": "9856fd39-bb70-4894-aa28-81a7cc345636",
   "metadata": {},
   "outputs": [],
   "source": [
    "lst1 = lst + [2,4,7,9,10]"
   ]
  },
  {
   "cell_type": "code",
   "execution_count": 44,
   "id": "dab23c57-89d7-4f37-851f-aae2d2236b66",
   "metadata": {},
   "outputs": [
    {
     "data": {
      "text/plain": [
       "10"
      ]
     },
     "execution_count": 44,
     "metadata": {},
     "output_type": "execute_result"
    }
   ],
   "source": [
    "lst1[-1]"
   ]
  },
  {
   "cell_type": "code",
   "execution_count": 45,
   "id": "0dcb3ebe-2689-4784-90ef-db0df6d9cd2d",
   "metadata": {},
   "outputs": [
    {
     "data": {
      "text/plain": [
       "4"
      ]
     },
     "execution_count": 45,
     "metadata": {},
     "output_type": "execute_result"
    }
   ],
   "source": [
    "lst1[1]"
   ]
  },
  {
   "cell_type": "code",
   "execution_count": 46,
   "id": "82b68eea-7a00-4522-9f05-686593cca23b",
   "metadata": {},
   "outputs": [
    {
     "data": {
      "text/plain": [
       "[4, 6, 8, True, 'python', 2, 4, 7]"
      ]
     },
     "execution_count": 46,
     "metadata": {},
     "output_type": "execute_result"
    }
   ],
   "source": [
    "lst1[1:9:1]"
   ]
  },
  {
   "cell_type": "code",
   "execution_count": 1,
   "id": "70108a5a-cc99-41fa-a850-e4eb59c6afad",
   "metadata": {},
   "outputs": [
    {
     "name": "stdout",
     "output_type": "stream",
     "text": [
      "hello\n",
      "sexy\n"
     ]
    }
   ],
   "source": [
    "def greet ():\n",
    "    print(\"hello\")\n",
    "    print(\"sexy\")\n",
    "    \n",
    "greet()"
   ]
  },
  {
   "cell_type": "markdown",
   "id": "ad62a9a0-dfd9-4bc2-bde9-61e6ee1d9b50",
   "metadata": {},
   "source": [
    "#### Adding numbers in a def"
   ]
  },
  {
   "cell_type": "code",
   "execution_count": 5,
   "id": "34839914-0dca-49a0-b4fd-8ee1f32b039a",
   "metadata": {},
   "outputs": [
    {
     "name": "stdout",
     "output_type": "stream",
     "text": [
      "9\n"
     ]
    }
   ],
   "source": [
    "def add(x,y): #this is the name of your def\n",
    "    c = x+y # this is what you want to do in the def\n",
    "    print(c) # you're asking python to produce an output of x+y\n",
    "    \n",
    "add(5,4)"
   ]
  },
  {
   "cell_type": "code",
   "execution_count": 6,
   "id": "93cab632-975e-42cd-8957-cac695d42c70",
   "metadata": {},
   "outputs": [
    {
     "name": "stdout",
     "output_type": "stream",
     "text": [
      "18\n"
     ]
    }
   ],
   "source": [
    "add(8,10)"
   ]
  },
  {
   "cell_type": "code",
   "execution_count": 11,
   "id": "157f6a3d-7e47-460e-8563-af05505dc7ef",
   "metadata": {},
   "outputs": [
    {
     "name": "stdout",
     "output_type": "stream",
     "text": [
      "hello\n",
      "sexy\n",
      "3\n",
      "hello\n",
      "sexy\n"
     ]
    }
   ],
   "source": [
    "def add (a,b):\n",
    "    d = a+b\n",
    "    print (d)\n",
    "    \n",
    "greet()    \n",
    "add (1,2)\n",
    "greet()"
   ]
  },
  {
   "cell_type": "code",
   "execution_count": 13,
   "id": "9cab8a66-ce70-45d4-9b93-67912dfc9c9d",
   "metadata": {},
   "outputs": [
    {
     "name": "stdout",
     "output_type": "stream",
     "text": [
      "name\n",
      "age\n"
     ]
    }
   ],
   "source": [
    "def person(name,age):  #this only takes 2 variables\n",
    "    print(\"name\")\n",
    "    print(\"age\")\n",
    "    \n",
    "person(\"leah\", \"18\")"
   ]
  },
  {
   "cell_type": "code",
   "execution_count": 15,
   "id": "f8b8c3e7-865e-4449-9deb-4133725100e7",
   "metadata": {},
   "outputs": [
    {
     "name": "stdout",
     "output_type": "stream",
     "text": [
      "name\n",
      "age\n"
     ]
    }
   ],
   "source": [
    "def person(name,age): #this only takes 2 variables, but what if you want to pass more than 1 variable? you can add a star in front of the next variable (see next example)\n",
    "    print(\"name\")\n",
    "    print(\"age\")\n",
    "    \n",
    "person(name=\"leah\", age=\"18\")"
   ]
  },
  {
   "cell_type": "code",
   "execution_count": 17,
   "id": "28299322-6f1f-4f09-b3b4-fa6075264826",
   "metadata": {},
   "outputs": [
    {
     "name": "stdout",
     "output_type": "stream",
     "text": [
      "10\n"
     ]
    }
   ],
   "source": [
    "def sum(a,*b):\n",
    "    c = a # for b need to make a loop because you need to add b (which is a tuple), to a all the time\n",
    "    \n",
    "    for i in b: # we will need to do a loop to add the b into the c(a)\n",
    "        c = c + i\n",
    "    print (c)\n",
    "    \n",
    "sum(4,3,1,2)\n",
    "    "
   ]
  },
  {
   "cell_type": "code",
   "execution_count": 18,
   "id": "8532c71c-6b37-40b2-b37b-430f4287093c",
   "metadata": {},
   "outputs": [
    {
     "name": "stdout",
     "output_type": "stream",
     "text": [
      "10\n"
     ]
    }
   ],
   "source": [
    "def sum(*b):\n",
    "    c = 0 # it's 0 because there's no value to a there's no a only an undefined number of values\n",
    "    \n",
    "    for i in b:\n",
    "        c = c + i\n",
    "    print (c)\n",
    "    \n",
    "sum(4,3,1,2)"
   ]
  },
  {
   "cell_type": "markdown",
   "id": "0b241d24-0532-454b-9abc-8e420a600816",
   "metadata": {},
   "source": [
    "### but when you want to pass through keyword data, you have to use two *"
   ]
  },
  {
   "cell_type": "code",
   "execution_count": 20,
   "id": "b9606244-7113-4372-9343-2a2463f20cfa",
   "metadata": {},
   "outputs": [
    {
     "name": "stdout",
     "output_type": "stream",
     "text": [
      "leah\n",
      "{'age': 18, 'city': 'Singapore', 'mobile': 92039182}\n"
     ]
    }
   ],
   "source": [
    "def person(name, **data): #name is a compulsary data we want to collect, ** data will take keywords and an undefined number of keywords\n",
    "    print(name)\n",
    "    print(data)\n",
    "    \n",
    "person(name=\"leah\", age=18, city=\"Singapore\", mobile=92039182)"
   ]
  },
  {
   "cell_type": "markdown",
   "id": "57b8b991-5d67-49b3-bbfe-f070cdc472ce",
   "metadata": {},
   "source": [
    "### now let's display this in one row each (for loops)"
   ]
  },
  {
   "cell_type": "code",
   "execution_count": 23,
   "id": "458cd8e8-b71a-4f5f-b56d-f91fc44b42f5",
   "metadata": {},
   "outputs": [
    {
     "name": "stdout",
     "output_type": "stream",
     "text": [
      "leah\n",
      "age 18\n",
      "city Singapore\n",
      "mobile 92039182\n"
     ]
    }
   ],
   "source": [
    "def person(name, **data):\n",
    "    print (name)\n",
    "    \n",
    "    for i,j in data.items(): #i is the key, j is the value, have to use .items (.items is a function to retrieve all the items\n",
    "        print (i,j)\n",
    "        \n",
    "person(name=\"leah\", age=18, city=\"Singapore\", mobile=92039182)"
   ]
  },
  {
   "cell_type": "code",
   "execution_count": 30,
   "id": "acc0e3b1-fe97-493a-8932-55a34407bae2",
   "metadata": {},
   "outputs": [
    {
     "name": "stdout",
     "output_type": "stream",
     "text": [
      "2 pandan valley\n",
      "unit_number 10-209\n",
      "postal_code 597626\n"
     ]
    }
   ],
   "source": [
    "def address(first_address, **data):\n",
    "    print(first_address)\n",
    "    \n",
    "    for a,b in data.items():\n",
    "        print (a,b)\n",
    "        \n",
    "address (first_address=\"2 pandan valley\", unit_number=\"10-209\", postal_code=597626)"
   ]
  },
  {
   "cell_type": "code",
   "execution_count": 5,
   "id": "864d6c13-c3b1-4dc3-90ed-32dc797bb6f0",
   "metadata": {},
   "outputs": [],
   "source": [
    "def greet():\n",
    "    print(\"Good Morning\")"
   ]
  },
  {
   "cell_type": "code",
   "execution_count": 6,
   "id": "c2d57174-596e-41e0-af16-3ecf0d78b0fe",
   "metadata": {},
   "outputs": [
    {
     "name": "stdout",
     "output_type": "stream",
     "text": [
      "Good Morning\n"
     ]
    }
   ],
   "source": [
    "greet()"
   ]
  },
  {
   "cell_type": "code",
   "execution_count": 7,
   "id": "08080693-d592-429d-9c02-fc04ba46daf7",
   "metadata": {},
   "outputs": [],
   "source": [
    "def greet(name):\n",
    "    print(\"Good evening\")\n",
    "    print(name)"
   ]
  },
  {
   "cell_type": "code",
   "execution_count": 12,
   "id": "f230ff88-e7c9-4c2f-8e8f-f32e12c17657",
   "metadata": {},
   "outputs": [
    {
     "name": "stdout",
     "output_type": "stream",
     "text": [
      "Good evening\n",
      "1\n"
     ]
    }
   ],
   "source": [
    "greet(1)"
   ]
  },
  {
   "cell_type": "markdown",
   "id": "0e5a2a85-d451-413f-b723-29b44596279e",
   "metadata": {},
   "source": [
    "### calculating simple interest"
   ]
  },
  {
   "cell_type": "code",
   "execution_count": 13,
   "id": "42c65dd6-790a-458f-9d6d-f9ccd22505be",
   "metadata": {},
   "outputs": [],
   "source": [
    "def si(a,t,r):\n",
    "    return (a*t*r) / 100"
   ]
  },
  {
   "cell_type": "code",
   "execution_count": 16,
   "id": "193adec3-da28-4ab3-b25c-ccef3d859091",
   "metadata": {},
   "outputs": [
    {
     "name": "stdin",
     "output_type": "stream",
     "text": [
      "how much did you invest? 1000\n",
      "how years did you invest? 1\n",
      "What is the interest rate? 4\n"
     ]
    },
    {
     "data": {
      "text/plain": [
       "40.0"
      ]
     },
     "execution_count": 16,
     "metadata": {},
     "output_type": "execute_result"
    }
   ],
   "source": [
    "amount = int(input(\"how much did you invest?\"))\n",
    "time = int(input(\"how years did you invest?\"))\n",
    "rate = int(input(\"What is the interest rate?\"))\n",
    "\n",
    "si(amount,time,rate)"
   ]
  },
  {
   "cell_type": "code",
   "execution_count": 18,
   "id": "4c5b2047-5e0f-4c0b-990c-15653be3959f",
   "metadata": {},
   "outputs": [],
   "source": [
    "def si(a,t,r=9): #do this if i want to make the rate optional so you dont have to input rate but if you do it will take your input \n",
    "    return (a*t*r) / 100"
   ]
  },
  {
   "cell_type": "code",
   "execution_count": null,
   "id": "5648b5f8-931d-4d46-9511-470c70df59b6",
   "metadata": {},
   "outputs": [],
   "source": []
  }
 ],
 "metadata": {
  "kernelspec": {
   "display_name": "Python 3 (ipykernel)",
   "language": "python",
   "name": "python3"
  },
  "language_info": {
   "codemirror_mode": {
    "name": "ipython",
    "version": 3
   },
   "file_extension": ".py",
   "mimetype": "text/x-python",
   "name": "python",
   "nbconvert_exporter": "python",
   "pygments_lexer": "ipython3",
   "version": "3.9.13"
  }
 },
 "nbformat": 4,
 "nbformat_minor": 5
}
