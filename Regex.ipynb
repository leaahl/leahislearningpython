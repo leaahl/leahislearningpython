{
 "cells": [
  {
   "cell_type": "markdown",
   "id": "9095ca3c-2623-47f6-954c-37a061e0e55a",
   "metadata": {},
   "source": [
    "## Regex - Regular Expression\n",
    "\n",
    "**Helps filter based on a particular set of conditions. e.g. find names starting with the letter \"s\"**\n",
    "\n",
    "Import the Regex expression, re"
   ]
  },
  {
   "cell_type": "code",
   "execution_count": 1,
   "id": "d89b298c-9b31-41a5-9447-1b6518bb0829",
   "metadata": {},
   "outputs": [],
   "source": [
    "import re"
   ]
  },
  {
   "cell_type": "code",
   "execution_count": 7,
   "id": "2cd02a8d-8d39-446a-bf84-0c8a8ad09bfe",
   "metadata": {},
   "outputs": [
    {
     "name": "stdout",
     "output_type": "stream",
     "text": [
      "Leah\n",
      "Johnny\n",
      "Suzy\n",
      "Nathan\n",
      "Mel\n",
      "Lori\n"
     ]
    }
   ],
   "source": [
    "names = [\"Leah\", \"Johnny\", \"Suzy\", \"Nathan\", \"Mel\", \"Lori\"] #Start by creating a loop first for easier reference step by step\n",
    "for name in names:\n",
    "    print(name)"
   ]
  },
  {
   "cell_type": "markdown",
   "id": "a12856ad-feb3-482a-b483-10c3f33ddd80",
   "metadata": {},
   "source": [
    "#### re.match - to find/search for variables"
   ]
  },
  {
   "cell_type": "code",
   "execution_count": 20,
   "id": "73ce9119-d4cf-4719-8c76-189b74667839",
   "metadata": {},
   "outputs": [
    {
     "name": "stdout",
     "output_type": "stream",
     "text": [
      "Leah\n",
      "Lori\n"
     ]
    }
   ],
   "source": [
    "names = [\"Leah\", \"Johnny\", \"Suzy\", \"Nathan\", \"Mel\", \"Lori\", \"Melissa\", \"leah\"]\n",
    "for name in names:\n",
    "    if re.match(\"^L\", name): #Trying to find the names starting with L - first way to write the syntex\n",
    "        print(name)"
   ]
  },
  {
   "cell_type": "code",
   "execution_count": 9,
   "id": "188f5485-34a4-47d1-8008-c514b4b802b5",
   "metadata": {},
   "outputs": [
    {
     "name": "stdout",
     "output_type": "stream",
     "text": [
      "Leah\n",
      "Lori\n"
     ]
    }
   ],
   "source": [
    "for name in names:\n",
    "    if re.match(\"[L]\", name): #Trying to find the names starting with L - second way to write the syntex\n",
    "        print(name)"
   ]
  },
  {
   "cell_type": "code",
   "execution_count": 17,
   "id": "2ac5582c-3c30-470c-86f6-eea49be642f8",
   "metadata": {},
   "outputs": [
    {
     "name": "stdout",
     "output_type": "stream",
     "text": [
      "Mel\n",
      "Melissa\n"
     ]
    }
   ],
   "source": [
    "for name in names:\n",
    "    if re.match(\"[ME]\", name):\n",
    "        print(name)"
   ]
  },
  {
   "cell_type": "code",
   "execution_count": 18,
   "id": "5b46d246-04ce-4241-85c9-449f7446b60b",
   "metadata": {},
   "outputs": [
    {
     "name": "stdout",
     "output_type": "stream",
     "text": [
      "Leah\n",
      "Johnny\n",
      "Suzy\n",
      "Nathan\n",
      "Lori\n"
     ]
    }
   ],
   "source": [
    "for name in names:\n",
    "    if re.match(\"[^ME]\", name): #don't want to see the names with m and e\n",
    "        print(name)"
   ]
  },
  {
   "cell_type": "code",
   "execution_count": 21,
   "id": "2e3264c2-9351-4b68-9813-87faeffbe0f1",
   "metadata": {},
   "outputs": [
    {
     "name": "stdout",
     "output_type": "stream",
     "text": [
      "Leah\n",
      "Lori\n",
      "leah\n"
     ]
    }
   ],
   "source": [
    "for name in names:\n",
    "    if re.match(\"[Ll]\", name): #want to see the names with both capital L and small l\n",
    "        print(name)"
   ]
  },
  {
   "cell_type": "code",
   "execution_count": 23,
   "id": "0c46348d-f54e-4e14-9520-aa32784725c2",
   "metadata": {},
   "outputs": [
    {
     "name": "stdout",
     "output_type": "stream",
     "text": [
      "Leah\n",
      "Johnny\n",
      "Suzy\n",
      "Nathan\n",
      "Mel\n",
      "Lori\n",
      "Melissa\n"
     ]
    }
   ],
   "source": [
    "for name in names:\n",
    "    if re.match(\"[A-Z]\", name): #show all the names in caps starting from letter A to Z\n",
    "        print(name)"
   ]
  },
  {
   "cell_type": "code",
   "execution_count": 24,
   "id": "b4ba17f4-993a-4987-a525-ebccd29f4c6f",
   "metadata": {},
   "outputs": [
    {
     "name": "stdout",
     "output_type": "stream",
     "text": [
      "leah\n"
     ]
    }
   ],
   "source": [
    "for name in names:\n",
    "    if re.match(\"[a-z]\", name): #show all the names in small letters starting from letter A to Z\n",
    "        print(name)"
   ]
  },
  {
   "cell_type": "code",
   "execution_count": 63,
   "id": "222da296-ea73-4dbe-87f3-4ced4f180235",
   "metadata": {},
   "outputs": [],
   "source": [
    "names = [\"Leah\", \"Johnny\", \"Suzy\", \"Nathan\", \"Mel\", \"Lori\", \"Melissa\", \"leah\", \"193\", \"2\", \"3\", \"Leoh\"] #let's add some numbers"
   ]
  },
  {
   "cell_type": "code",
   "execution_count": 55,
   "id": "e9a53839-9d54-40d8-9c4c-68c2f1ca6e12",
   "metadata": {},
   "outputs": [
    {
     "name": "stdout",
     "output_type": "stream",
     "text": [
      "193\n",
      "2\n",
      "3\n"
     ]
    }
   ],
   "source": [
    "for name in names: \n",
    "    if re.match(\"[0-9]\", name): #search for any character that at least has from 0-1\n",
    "        print(name)"
   ]
  },
  {
   "cell_type": "markdown",
   "id": "1984e240-aa45-4395-ab62-76ef7ade18b5",
   "metadata": {},
   "source": [
    "#### let's look for the string with second characters as e"
   ]
  },
  {
   "cell_type": "code",
   "execution_count": 56,
   "id": "b0d79af7-5e28-4036-90da-3e123a763800",
   "metadata": {},
   "outputs": [
    {
     "name": "stdout",
     "output_type": "stream",
     "text": [
      "Leah\n",
      "Mel\n",
      "Melissa\n",
      "leah\n"
     ]
    }
   ],
   "source": [
    "for name in names: \n",
    "    if re.match(\".[e]\", name):\n",
    "        print(name)"
   ]
  },
  {
   "cell_type": "markdown",
   "id": "1c148495-3f97-4921-b431-3a7bd10c0f63",
   "metadata": {},
   "source": [
    "#### let's look for the string with third characters as a"
   ]
  },
  {
   "cell_type": "code",
   "execution_count": 58,
   "id": "8c99bc4a-15f4-4533-a85b-84ea88d71ca7",
   "metadata": {},
   "outputs": [
    {
     "name": "stdout",
     "output_type": "stream",
     "text": [
      "Leah\n",
      "leah\n"
     ]
    }
   ],
   "source": [
    "for name in names: \n",
    "    if re.match(\"..[a]\", name): #just add an extra . this . dot represents one character\n",
    "        print(name)"
   ]
  },
  {
   "cell_type": "markdown",
   "id": "189b45d6-e112-48a0-8ef0-59f2af081afc",
   "metadata": {},
   "source": [
    "#### let's look for the string with certain characters at certain positions\n",
    "\n",
    "***remember it's case sensitive!!!***"
   ]
  },
  {
   "cell_type": "code",
   "execution_count": 66,
   "id": "cf5c722d-0ba6-4db3-900b-c4ff88b19ede",
   "metadata": {},
   "outputs": [
    {
     "name": "stdout",
     "output_type": "stream",
     "text": [
      "Leah\n",
      "Leoh\n"
     ]
    }
   ],
   "source": [
    "for name in names: \n",
    "    if re.match(\"[L]..[h]\", name): #first character should start with L and fourth character should be h\n",
    "        print(name)"
   ]
  },
  {
   "cell_type": "markdown",
   "id": "5f299673-73c3-4c88-895b-2ff800f78241",
   "metadata": {},
   "source": [
    "#### Finding strings with both capital letters and small letters"
   ]
  },
  {
   "cell_type": "code",
   "execution_count": 78,
   "id": "4cd6f57c-9b07-42e6-9e67-a37e1cb5ec43",
   "metadata": {},
   "outputs": [
    {
     "name": "stdout",
     "output_type": "stream",
     "text": [
      "Leah\n",
      "Johnny\n",
      "Suzy\n",
      "Nathan\n",
      "Mel\n",
      "Lori\n",
      "Melissa\n",
      "leah\n",
      "Leoh\n"
     ]
    }
   ],
   "source": [
    "for name in names: \n",
    "    if re.match(\"[A-Za-z]\", name):\n",
    "        print(name)"
   ]
  },
  {
   "cell_type": "code",
   "execution_count": 79,
   "id": "db757f4d-cf41-419e-8d2a-ef2c78e3a4b6",
   "metadata": {},
   "outputs": [
    {
     "name": "stdout",
     "output_type": "stream",
     "text": [
      "Leah\n",
      "Johnny\n",
      "Suzy\n",
      "Nathan\n",
      "Mel\n",
      "Lori\n",
      "Melissa\n",
      "leah\n",
      "193\n",
      "2\n",
      "3\n",
      "Leoh\n"
     ]
    }
   ],
   "source": [
    "for name in names: \n",
    "    if re.match(\"[A-Za-z0-9]\", name): #including numbers\n",
    "        print(name)"
   ]
  },
  {
   "cell_type": "markdown",
   "id": "d5617356-123a-4966-9b2f-63dfc712c142",
   "metadata": {},
   "source": [
    "### Or... we can use character classes when we don't know what are the values in there\n",
    "\n",
    "\n",
    "\\d - [0-9]\n",
    "\\D - non digits\n",
    "\\w - Matches any alphanumeric character. short for character class [a-zA-Z_0-9]\n",
    "\\s - Matches any whitespace character\n",
    "\n",
    "In general the caps of the syntax is usually the opposite of the function (need to confirm again if this is true)"
   ]
  },
  {
   "cell_type": "code",
   "execution_count": 82,
   "id": "3d11e9ec-1a4e-4c0d-89a4-7e58b2b48977",
   "metadata": {},
   "outputs": [
    {
     "name": "stdout",
     "output_type": "stream",
     "text": [
      "193\n",
      "2\n",
      "3\n"
     ]
    }
   ],
   "source": [
    "for name in names: \n",
    "    if re.match(\"\\d\", name): #\\d shows all the numbers that matches decimal digit 0 - 9\n",
    "        print(name)"
   ]
  },
  {
   "cell_type": "code",
   "execution_count": 83,
   "id": "168f1c3e-f6a9-4e10-a62e-adc99d5a41db",
   "metadata": {},
   "outputs": [
    {
     "name": "stdout",
     "output_type": "stream",
     "text": [
      "Leah\n",
      "Johnny\n",
      "Suzy\n",
      "Nathan\n",
      "Mel\n",
      "Lori\n",
      "Melissa\n",
      "leah\n",
      "Leoh\n"
     ]
    }
   ],
   "source": [
    "for name in names: \n",
    "    if re.match(\"\\D\", name): #\\d shows all the numbers that matches decimal digit 0 - 9\n",
    "        print(name)"
   ]
  },
  {
   "cell_type": "markdown",
   "id": "c804e6a2-2ebd-418c-94aa-261bb4dfff9c",
   "metadata": {},
   "source": [
    "#### re.search() Let's try with a real life example: Validating email address"
   ]
  },
  {
   "cell_type": "code",
   "execution_count": 94,
   "id": "06c49a1d-391b-485f-8125-c1ccbab95f5c",
   "metadata": {},
   "outputs": [
    {
     "name": "stdin",
     "output_type": "stream",
     "text": [
      "Enter your email address:  qwr@gmail.com\n"
     ]
    },
    {
     "name": "stdout",
     "output_type": "stream",
     "text": [
      "Invalid email\n"
     ]
    }
   ],
   "source": [
    "import re\n",
    "\n",
    "pattern = \"[A-Za-z0-9] + @[A-Za-z] + \\.(com|net|edu|co)\" #this is the code provided by sadiq but it seems to be wrong\n",
    "email = input(\"Enter your email address: \")\n",
    "if(re.search(pattern,email)):\n",
    "    print(\"Valid email\")\n",
    "    \n",
    "else:\n",
    "    print(\"Invalid email\")"
   ]
  },
  {
   "cell_type": "code",
   "execution_count": 108,
   "id": "bbdd5f02-7be9-4c6b-84ed-bd245b6cb43f",
   "metadata": {},
   "outputs": [
    {
     "name": "stdin",
     "output_type": "stream",
     "text": [
      "Enter your email address:  gasd@gmail.com\n"
     ]
    },
    {
     "name": "stdout",
     "output_type": "stream",
     "text": [
      "Valid Email\n"
     ]
    }
   ],
   "source": [
    "regex = '^[a-z0-9]+[\\._]?[a-z0-9]+[@]\\w+[.]\\w{2,3}$'  \n",
    "email = input(\"Enter your email address: \")\n",
    "  \n",
    "if(re.search(regex,email)):   \n",
    "    print(\"Valid Email\")   \n",
    "else:   \n",
    "    print(\"Invalid Email\") \n"
   ]
  },
  {
   "cell_type": "markdown",
   "id": "a9af9a3c-99ae-48bd-8c1a-5a057d530237",
   "metadata": {},
   "source": [
    "^ means to match the starting of the string, i.e. here it tells the interpreter that the sequence that follows ^ is the format based on which it has to decide which email is valid and which is not.\n",
    "\n",
    "[...] means to match a set of characters, and [a-z0-9] means to find a sequence/combination of characters that contains characters from small 'a' to small 'z' and numbers from 0 to 9. + means to match 1 or more repetitions. Hence, [a-z0-9]+ means to match all the combinations of small 'a' to small 'z' and numbers from 0 to 9, repeating one or more than one time.\n",
    "\n",
    "[\\._] means to match '.' (dot) and ? means to find 0 or 1 repetitions. Since we don't allow more than one consecutive dot in an email address so [\\._]? means it has to match zero or one occurrence of a dot.\n",
    "\n",
    "We have another [a-z0-9]+ so as to find another combination of small 'a' to small 'z' and numbers from 0 to 9 repeating one or more than one time, which may or may not be a successor of a dot.\n",
    "\n",
    "[@] means to match @, and \\w means to match any alphanumeric character, i.e. [@]\\w+ means to match @ followed by any alphanumeric character, repeating one or more than one time\n",
    "\n",
    "[.]\\w{2,3} means to match dot followed by any alphanumeric combination of characters of length 2 or 3. This is used to match the domain names which are of length 2 and 3. If you want to check custom domain names so you can replace this with \\w+.\n",
    "\n",
    "$ means to match the end of the string, i.e. -- $ means to mark the end of validation sequence."
   ]
  },
  {
   "cell_type": "markdown",
   "id": "8bc3076b-9f74-432a-b75d-2764e3b6deca",
   "metadata": {},
   "source": [
    "#### let's verify singapore numbers: re.match()"
   ]
  },
  {
   "cell_type": "code",
   "execution_count": 109,
   "id": "761dfabf-3ca9-4e4a-92fd-9714856888bc",
   "metadata": {},
   "outputs": [],
   "source": [
    "import re"
   ]
  },
  {
   "cell_type": "code",
   "execution_count": 119,
   "id": "83b3e874-9cbc-4801-99d2-8d39e3f8822e",
   "metadata": {},
   "outputs": [
    {
     "name": "stdout",
     "output_type": "stream",
     "text": [
      "+6598293017\n"
     ]
    }
   ],
   "source": [
    "numbers = [\"+6598293017\", \"+198293017\", \"+8298293017\", \"+9198293017\"]\n",
    "\n",
    "for number in numbers:\n",
    "    if re.match(\"\\+[6][5]\", number):\n",
    "                print(number)"
   ]
  },
  {
   "cell_type": "code",
   "execution_count": 125,
   "id": "8a13e114-1708-4359-bfc9-69b413aac237",
   "metadata": {},
   "outputs": [
    {
     "name": "stdout",
     "output_type": "stream",
     "text": [
      "+6598293017\n",
      "+6581203892\n"
     ]
    }
   ],
   "source": [
    "numbers = [\"+6598293017\", \"+198293017\", \"+8298293017\", \"+9198293017\", \"+6581203892\"]\n",
    "\n",
    "for x in numbers:\n",
    "    if re.match(\"\\+[6][5]\", x):\n",
    "        print(x)"
   ]
  },
  {
   "cell_type": "code",
   "execution_count": 126,
   "id": "1ab3fd61-7400-4e71-8927-b4ce8fec235a",
   "metadata": {},
   "outputs": [
    {
     "name": "stdout",
     "output_type": "stream",
     "text": [
      "+198293017\n"
     ]
    }
   ],
   "source": [
    "for x in numbers:\n",
    "    if re.match(\"\\+[1]\", x):\n",
    "        print(x)"
   ]
  },
  {
   "cell_type": "markdown",
   "id": "db3100f5-2c96-413e-8454-34a3bdf39435",
   "metadata": {},
   "source": [
    "***but now we need to make sure it shows the right number of numbers***"
   ]
  },
  {
   "cell_type": "code",
   "execution_count": 127,
   "id": "a0d8c21e-1932-4175-966f-44f174476a43",
   "metadata": {},
   "outputs": [
    {
     "name": "stdout",
     "output_type": "stream",
     "text": [
      "+6598293017\n",
      "+6581203892\n"
     ]
    }
   ],
   "source": [
    "for x in numbers:\n",
    "    if re.match(\"\\+[6][5]\\d{8}\", x):\n",
    "        print(x)"
   ]
  },
  {
   "cell_type": "markdown",
   "id": "f4a2e444-5fe5-47df-91d4-37c68ca2a7c9",
   "metadata": {
    "tags": []
   },
   "source": [
    "### re.split() let's split names"
   ]
  },
  {
   "cell_type": "code",
   "execution_count": 128,
   "id": "e945cb1d-657c-4dad-9b0c-d0ad4c021dd7",
   "metadata": {},
   "outputs": [
    {
     "name": "stdout",
     "output_type": "stream",
     "text": [
      "['Leah', 'Lee', 'Chen', 'Tei']\n"
     ]
    }
   ],
   "source": [
    "fullname = \"Leah Lee Chen Tei\"\n",
    "split = re.split(\" \", fullname)\n",
    "print(split)"
   ]
  },
  {
   "cell_type": "code",
   "execution_count": 131,
   "id": "21c3a3f7-0e2d-41b6-99f1-87bc385709b5",
   "metadata": {},
   "outputs": [
    {
     "name": "stdout",
     "output_type": "stream",
     "text": [
      "['Leah', 'Lee', 'Chen', 'Tei']\n"
     ]
    }
   ],
   "source": [
    "fullname = \"Leah Lee Chen Tei\"\n",
    "print(re.split(\" \", fullname)) #just executing in one less line~"
   ]
  },
  {
   "cell_type": "code",
   "execution_count": 133,
   "id": "c23ada19-1782-4a2c-9f02-c3e398a03ebb",
   "metadata": {},
   "outputs": [
    {
     "name": "stdout",
     "output_type": "stream",
     "text": [
      "Leah\n",
      "Lee\n",
      "Chen\n",
      "Tei\n"
     ]
    }
   ],
   "source": [
    "fullname = \"Leah Lee Chen Tei\"\n",
    "split = re.split(\" \", fullname)\n",
    "\n",
    "for n in split:\n",
    "    print(n)"
   ]
  },
  {
   "cell_type": "code",
   "execution_count": 134,
   "id": "77e9100c-4192-45a6-9cb6-0a256ec18e56",
   "metadata": {},
   "outputs": [
    {
     "name": "stdout",
     "output_type": "stream",
     "text": [
      "Leah\n",
      "Lee\n",
      "Chen\n",
      "Tei\n"
     ]
    }
   ],
   "source": [
    "fullname = \"Leah Lee Chen Tei\"\n",
    "\n",
    "for n in re.split(\" \", fullname):\n",
    "    print(n)"
   ]
  },
  {
   "cell_type": "markdown",
   "id": "979a0953-7da3-4fa2-ba8a-e2f86e728ead",
   "metadata": {},
   "source": [
    "### re.findall() to search for the whole string"
   ]
  },
  {
   "cell_type": "code",
   "execution_count": 136,
   "id": "42490c69-d2e1-47d9-b2dd-032d0d29eea4",
   "metadata": {},
   "outputs": [
    {
     "name": "stdout",
     "output_type": "stream",
     "text": [
      "['3', '0']\n"
     ]
    }
   ],
   "source": [
    "s = \"Today is Leah's 30th Birthday\"\n",
    "\n",
    "print(re.findall(\"\\d\", s))"
   ]
  },
  {
   "cell_type": "code",
   "execution_count": 137,
   "id": "2c04c47e-bc6e-4ae1-b574-91c857ffca3a",
   "metadata": {},
   "outputs": [
    {
     "name": "stdout",
     "output_type": "stream",
     "text": [
      "['30']\n"
     ]
    }
   ],
   "source": [
    "s = \"Today is Leah's 30th Birthday\"\n",
    "\n",
    "print(re.findall(\"\\d{2}\", s))"
   ]
  },
  {
   "cell_type": "markdown",
   "id": "787753c1-0a5d-4645-bc2c-6b39ceb6c07d",
   "metadata": {},
   "source": [
    "let's complicate things heh - we'll need to extract only the name and age from a string"
   ]
  },
  {
   "cell_type": "code",
   "execution_count": 144,
   "id": "014af492-6a01-40ea-8451-33e4a22db3f4",
   "metadata": {},
   "outputs": [
    {
     "name": "stdout",
     "output_type": "stream",
     "text": [
      "['Leah', 'Koo', 'Grandma', 'Kid']\n",
      "['30', '50', '100', '4']\n"
     ]
    }
   ],
   "source": [
    "str = \"Leah is 30 and Koo is 50 and Grandma is 100 and Kid is 4\" # lets try to take out just the name and their age\n",
    "\n",
    "name = re.findall(\"[A-Z][a-z]*\", str) \n",
    "age = re.findall(\"\\d{1,3}\", str)\n",
    "\n",
    "print(name)\n",
    "print(age)"
   ]
  },
  {
   "cell_type": "code",
   "execution_count": 145,
   "id": "70a969a2-11cb-494b-a3fa-5fe278d06732",
   "metadata": {},
   "outputs": [
    {
     "name": "stdout",
     "output_type": "stream",
     "text": [
      "['Leah', 'Koo', 'Grandma', 'Kid']\n",
      "['30', '50', '100', '4']\n"
     ]
    }
   ],
   "source": [
    "str = \"Leah is 30 and Koo is 50 and Grandma is 100 and Kid is 4\" # lets try to take out just the name and their age\n",
    "\n",
    "name = re.findall(r\"[A-Z][a-z]*\", str) #its also good to specify that its a raw data with r\n",
    "age = re.findall(r\"\\d{1,3}\", str)\n",
    "\n",
    "print(name)\n",
    "print(age)"
   ]
  },
  {
   "cell_type": "markdown",
   "id": "2ddcb65f-e670-40d8-a877-20410042aafc",
   "metadata": {},
   "source": [
    "### re.sub() - replace a value in the string with something else"
   ]
  },
  {
   "cell_type": "code",
   "execution_count": 147,
   "id": "da3d8df0-d0cb-43d0-9760-ec63a862f94e",
   "metadata": {},
   "outputs": [
    {
     "name": "stdout",
     "output_type": "stream",
     "text": [
      "Today is Tuesday\n"
     ]
    }
   ],
   "source": [
    "str = \"Today is Monday\"\n",
    "x = re.sub(\"Monday\", \"Tuesday\", str)\n",
    "print(x)"
   ]
  },
  {
   "cell_type": "code",
   "execution_count": null,
   "id": "de1b9817-4010-46f6-8fd2-645828d59518",
   "metadata": {},
   "outputs": [],
   "source": []
  }
 ],
 "metadata": {
  "kernelspec": {
   "display_name": "Python 3 (ipykernel)",
   "language": "python",
   "name": "python3"
  },
  "language_info": {
   "codemirror_mode": {
    "name": "ipython",
    "version": 3
   },
   "file_extension": ".py",
   "mimetype": "text/x-python",
   "name": "python",
   "nbconvert_exporter": "python",
   "pygments_lexer": "ipython3",
   "version": "3.9.13"
  }
 },
 "nbformat": 4,
 "nbformat_minor": 5
}
